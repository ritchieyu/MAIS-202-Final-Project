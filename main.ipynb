{
  "nbformat": 4,
  "nbformat_minor": 0,
  "metadata": {
    "colab": {
      "name": "main",
      "provenance": [],
      "collapsed_sections": [],
      "machine_shape": "hm"
    },
    "kernelspec": {
      "display_name": "Python 3",
      "name": "python3"
    },
    "accelerator": "TPU"
  },
  "cells": [
    {
      "cell_type": "markdown",
      "metadata": {
        "id": "4cbgwZWWfWpp"
      },
      "source": [
        "\n",
        "\n",
        "\n",
        "# MAIS 202 Final Project \n"
      ]
    },
    {
      "cell_type": "markdown",
      "metadata": {
        "id": "K1ImSsEDj4HA"
      },
      "source": [
        "# Import libraries"
      ]
    },
    {
      "cell_type": "code",
      "metadata": {
        "colab": {
          "base_uri": "https://localhost:8080/"
        },
        "id": "tAb77yZ9fzMG",
        "outputId": "bef53309-107a-4f96-d2f1-1d9b487d53ae"
      },
      "source": [
        "!pip install biopython"
      ],
      "execution_count": null,
      "outputs": [
        {
          "output_type": "stream",
          "text": [
            "Collecting biopython\n",
            "\u001b[?25l  Downloading https://files.pythonhosted.org/packages/76/02/8b606c4aa92ff61b5eda71d23b499ab1de57d5e818be33f77b01a6f435a8/biopython-1.78-cp36-cp36m-manylinux1_x86_64.whl (2.3MB)\n",
            "\u001b[K     |████████████████████████████████| 2.3MB 7.2MB/s \n",
            "\u001b[?25hRequirement already satisfied: numpy in /usr/local/lib/python3.6/dist-packages (from biopython) (1.18.5)\n",
            "Installing collected packages: biopython\n",
            "Successfully installed biopython-1.78\n"
          ],
          "name": "stdout"
        }
      ]
    },
    {
      "cell_type": "code",
      "metadata": {
        "id": "pafL7Li0jyXW"
      },
      "source": [
        "from google.colab import files\n",
        "import Bio\n",
        "from Bio import SeqIO\n",
        "from sklearn import cluster, neighbors, decomposition\n",
        "from sklearn import preprocessing\n",
        "from sklearn.metrics import confusion_matrix\n",
        "\n",
        "import numpy as np\n",
        "import pandas as pd\n",
        "import matplotlib.pyplot as plt\n",
        "import csv\n",
        "import re, ast\n",
        "import math\n",
        "from datetime import datetime\n",
        "import pickle\n",
        "import random\n",
        "import math\n",
        "\n",
        "import keras\n",
        "from keras import layers\n",
        "from keras.models import Sequential\n",
        "from keras.layers import Flatten\n",
        "from keras.layers import Dense\n",
        "from keras.layers import LSTM\n",
        "from keras.layers import Dropout\n",
        "from keras.callbacks import ReduceLROnPlateau, ModelCheckpoint, Callback\n",
        "from keras.layers import Layer\n",
        "import keras.backend as K\n",
        "\n",
        "import h5py"
      ],
      "execution_count": null,
      "outputs": []
    },
    {
      "cell_type": "code",
      "metadata": {
        "colab": {
          "base_uri": "https://localhost:8080/"
        },
        "id": "K1Fw02C_W2Tq",
        "outputId": "1eb23a9f-3eec-4f96-d312-f22f7e364278"
      },
      "source": [
        "# Import data\n",
        "# file_name should be the location of the spike protein sequences in the form of a FASTA file. Sequences for this project were downloaded from GISAID.\n",
        "data = list(SeqIO.parse(filename, \"fasta\"))\n",
        "\n",
        "# Visualize original Wuhan virus\n",
        "wuhan_original = data[0]\n",
        "print(wuhan_original)"
      ],
      "execution_count": null,
      "outputs": [
        {
          "output_type": "stream",
          "text": [
            "ID: Spike|hCoV-19/Wuhan/WIV04/2019|2019-12-30|EPI_ISL_402124|Original|hCoV-19^^Hubei|Human|Wuhan\n",
            "Name: Spike|hCoV-19/Wuhan/WIV04/2019|2019-12-30|EPI_ISL_402124|Original|hCoV-19^^Hubei|Human|Wuhan\n",
            "Description: Spike|hCoV-19/Wuhan/WIV04/2019|2019-12-30|EPI_ISL_402124|Original|hCoV-19^^Hubei|Human|Wuhan Jinyintan Hospital|Wuhan Institute of Virology|Wuhan Institute of Virology|China\n",
            "Number of features: 0\n",
            "Seq('MFVFLVLLPLVSSQCVNLTTRTQLPPAYTNSFTRGVYYPDKVFRSSVLHSTQDL...YT*')\n"
          ],
          "name": "stdout"
        }
      ]
    },
    {
      "cell_type": "markdown",
      "metadata": {
        "id": "51nu6Sjjke87"
      },
      "source": [
        "#**Preprocessing Part 1**\n",
        "\n",
        "\n",
        "*   Clean sequences and remove incomplete amino acid sequences. For reference, the full spike glycoprotein sequence is 1273 amino acids long.\n",
        "*   Order sequences by date\n",
        "*   Select geographic location of the sequences (this was not done in my model, but may be of interest to investigate)\n",
        "\n",
        "\n",
        "\n"
      ]
    },
    {
      "cell_type": "code",
      "metadata": {
        "id": "KuLf2Yd9W36b"
      },
      "source": [
        "def clean_sequence(fasta_list, target_length):\n",
        "  # Ignore sequences with \"X\", ignore duplicate IDs\n",
        "  # Contains the option to write sequences to file\n",
        "  sequences = {}\n",
        "  for seq_record in fasta_list:\n",
        "    id = seq_record.id\n",
        "    str_seq = str(seq_record.seq)\n",
        "    sequence = str_seq.replace(\"*\", \"\")\n",
        "    if (len(sequence) == target_length) and (sequence.count(\"X\") == 0):\n",
        "      if id not in sequences:\n",
        "          sequences[id] = sequence\n",
        " \n",
        "  with open(filename, \"w+\") as output_file:\n",
        "    for id in sequences:\n",
        "      output_file.write(\">\" + id + \"\\n\" + sequences[id] + \"\\n\")\n",
        "\n",
        "\n",
        "def select_location(fasta_list, geo_location):\n",
        "  # Select a particular geographic location of interest\n",
        "  # Contains the option to write sequences to file\n",
        "  sequences = {}\n",
        "  checker = \"Spike|hCoV-19/\" + geo_location + \"/\"\n",
        "  for seq_record in fasta_list:\n",
        "    id = str(seq_record.id)\n",
        "    sequence = str(seq_record.seq)\n",
        "    if checker in id:\n",
        "      sequences[id] = sequence\n",
        "  \n",
        "  with open(filename, \"w+\") as output_file:\n",
        "    for id in sequences:\n",
        "      output_file.write(\">\" + id + \"\\n\" + sequences[id] + \"\\n\")\n",
        "\n",
        "def all_data(fasta_list):\n",
        "  # Selecting all sequences (global)\n",
        "  sequences = {}\n",
        "  for seq_record in fasta_list:\n",
        "    id = str(seq_record.id)\n",
        "    sequence = str(seq_record.seq)\n",
        "    sequences[id] = sequence\n",
        "  \n",
        "  with open(filename, \"w+\") as output_file:\n",
        "    for id in sequences:\n",
        "      output_file.write(\">\" + id + \"\\n\" + sequences[id] + \"\\n\")\n",
        "\n",
        "def sort_by_date(fasta_list):\n",
        "  sequences = {}\n",
        "  date_id = []\n",
        "  sorted = []\n",
        "  for seq_record in fasta_list:\n",
        "    id = str(seq_record.id)\n",
        "    sequence = str(seq_record.seq)\n",
        "    sequences[id] = sequence   # Define hash table\n",
        "    match = re.search(r'\\d{4}-\\d{2}-\\d{2}', id)\n",
        "    if match:\n",
        "      if match.group()[-2:] != \"00\":\n",
        "        date = datetime.strptime(match.group(), '%Y-%m-%d')\n",
        "        date_id.append((id, date))\n",
        "  \n",
        "  date_id.sort(key=lambda x:x[1]) \n",
        "\n",
        "  for date_id_tuple in date_id:\n",
        "    id = date_id_tuple[0]\n",
        "    sequence = sequences[id]\n",
        "    sorted.append((id, sequence))\n",
        "\n",
        "  with open(\"/content/drive/My Drive/mais_data/November 24/ordered.fasta\", \"w+\") as output_file:\n",
        "    for id_seq in sorted:\n",
        "        output_file.write(\">\" + id_seq[0] + \"\\n\" + id_seq[1] + \"\\n\")"
      ],
      "execution_count": null,
      "outputs": []
    },
    {
      "cell_type": "code",
      "metadata": {
        "id": "bpMP7bh7tqxG"
      },
      "source": [
        "# Apply processing functions\n",
        "clean_sequence(data, 1273)\n",
        "# select_location(data1, \"USA\")\n",
        "all_data(data1)\n",
        "sort_by_date(data2)\n",
        "\n",
        "# Assign cleaned data to files\n",
        "data1 = list(SeqIO.parse(filename, \"fasta\"))\n",
        "data2 = list(SeqIO.parse(filename, \"fasta\"))\n",
        "data3 = list(SeqIO.parse(filename, \"fasta\"))"
      ],
      "execution_count": null,
      "outputs": []
    },
    {
      "cell_type": "markdown",
      "metadata": {
        "id": "_CubM5QNk7hc"
      },
      "source": [
        "# **Preprocessing Part 2**\n",
        "\n",
        "\n",
        "\n",
        "*   Split data into sublists, where each sublist contains the sequences obtained from a single month\n",
        "*   Encode full sequences or single site locations categorically, depending on the type of mutation prediction wanted\n",
        "\n"
      ]
    },
    {
      "cell_type": "code",
      "metadata": {
        "id": "Ts6u9Rd3yTO8"
      },
      "source": [
        "# Split sequences by month into a list\n",
        "\n",
        "def sort_by_month(seq_list):\n",
        "  split_months = []\n",
        "  for i in range(12):\n",
        "    month_list = []\n",
        "    if i == 0:  # Account for December 2019\n",
        "      month_to_search = 12\n",
        "    else:\n",
        "      month_to_search = i\n",
        "    for sequence in seq_list:\n",
        "      id = str(sequence.id)\n",
        "      match = re.search(r'\\d{4}-\\d{2}-\\d{2}', id)\n",
        "      date = datetime.strptime(match.group(), '%Y-%m-%d')\n",
        "      if date.month == month_to_search:\n",
        "        month_list.append(sequence)\n",
        "    split_months.append(month_list)\n",
        "\n",
        "  return split_months\n",
        "\n",
        "def encode_seq(seq_by_month):\n",
        "  # Encode all sequences sites for full sequence mutation prediction\n",
        "  amino_acids = ['A', 'F', 'Q', 'R', 'T', 'Y', 'V', 'I', 'H', 'K', 'P', 'N',\n",
        "                 'E', 'G', 'S', 'M', 'D', 'W', 'C', 'L', 'B', 'J', 'Z']\n",
        "  le = preprocessing.LabelEncoder()  # Encodes in alphabetical order\n",
        "  le.fit(amino_acids)\n",
        "\n",
        "  encoded_seqs = []\n",
        "  for month_seqs in seq_by_month:\n",
        "    month_encoded_seqs = []\n",
        "    for sequence in month_seqs:\n",
        "      AA_chars = list(str(sequence.seq))\n",
        "      month_encoded_seqs.append(le.transform(AA_chars))\n",
        "\n",
        "    encoded_seqs.append(month_encoded_seqs)\n",
        "\n",
        "  return encoded_seqs\n",
        "\n",
        "def encode_seq_site(seq_by_month, site_position):\n",
        "  # Encode particular sequence site for single site mutation prediction\n",
        "  amino_acids = ['A', 'F', 'Q', 'R', 'T', 'Y', 'V', 'I', 'H', 'K', 'P', 'N',\n",
        "                 'E', 'G', 'S', 'M', 'D', 'W', 'C', 'L', 'B', 'J', 'Z']\n",
        "  le = preprocessing.LabelEncoder()  # Encodes in alphabetical order\n",
        "  le.fit(amino_acids)\n",
        "\n",
        "  encoded_seqs = []\n",
        "  for month_seqs in seq_by_month:\n",
        "    month_encoded_seqs = []\n",
        "    for sequence in month_seqs:\n",
        "      AA_char = list(str(sequence.seq)[site_position])\n",
        "      month_encoded_seqs.append(le.transform(AA_char))\n",
        "\n",
        "    encoded_seqs.append(month_encoded_seqs)\n",
        "\n",
        "  return encoded_seqs"
      ],
      "execution_count": null,
      "outputs": []
    },
    {
      "cell_type": "code",
      "metadata": {
        "id": "vihj3LaW4jsX"
      },
      "source": [
        "# Temporally ordered lists by index (dec = 0, jan = 1, etc.)\n",
        "seq_by_month = sort_by_month(data3)\n",
        "\n",
        "# All encoded sequences\n",
        "encoded_sequences = encode_seq(seq_by_month)\n",
        "\n",
        "# Site 221 encodings \n",
        "encoded_221 = encode_seq_site(seq_by_month, 221)"
      ],
      "execution_count": null,
      "outputs": []
    },
    {
      "cell_type": "markdown",
      "metadata": {
        "id": "y9bcfZEKXCsm"
      },
      "source": [
        "## **Preprocessing Part 3**\n",
        "\n",
        "Embed each amino acid sequence, whether full sequence or single site, into an n-dimensional vector representation. Single site embedding is illustrated in my poster.\n",
        "\n",
        "\n",
        "1.   Split each AA sequence into 3-grams (with overlap, as depicted below).\n",
        "\n",
        "2.   Embed each 3-gram as a 100 dimensional vector representation using pretrained embeddings.\n",
        "\n",
        "3.   Sum all of these 3-gram vectors to produce the AA sequence embedding. By vector addition, the AA sequence embedding is also a 100 dimensional vector. \n",
        "\n",
        "The data source used for the embeddings is referenced in my Github.\n",
        "\n",
        "\n",
        "\n",
        "\n",
        "![Splittings.png](data:image/png;base64,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)\n"
      ]
    },
    {
      "cell_type": "code",
      "metadata": {
        "id": "6ks0kDcqW5nn"
      },
      "source": [
        "def setup_embeds(file_path):\n",
        "  # Import embeddings CSV and create embeddings dictionary\n",
        "  with open(file_path) as csv_file:\n",
        "    csv_reader = csv.reader(csv_file)\n",
        "    next(csv_reader)\n",
        "    embeddings = {}\n",
        "    for row in csv_reader:\n",
        "      temp = (row[0].split('\\t'))\n",
        "      nums = temp[1:]\n",
        "      nums = np.array([float(num) for num in nums])\n",
        "      nums = nums.reshape((100, 1))\n",
        "      embeddings[temp[0]] = nums\n",
        "  return embeddings\n",
        "\n",
        "\n",
        "embed_dict = setup_embeds(\"/content/drive/My Drive/mais_data/protVec_100d_3grams.csv\")\n",
        "\n",
        "\n",
        "# Create 3-gram splittings with overlap\n",
        "def split_seq(sequence):\n",
        "  # Take as input a sequence string and output splits as list \n",
        "  split_list = [] \n",
        "  for i in range(3):\n",
        "    for j in range(0, len(sequence), 3):\n",
        "      if j+i+3 <= len(sequence):\n",
        "        split_list.append(sequence[j+i:j+i+3])\n",
        "      # if len(sequence) - j < 3:\n",
        "      #   split_list.append(\"end\")\n",
        "  return split_list\n",
        "\n",
        "\n",
        "def embed(sequence, embed_dict):\n",
        "  # Embed an entire protein\n",
        "  sequence_vec = np.zeros((100, 1))\n",
        "  split_list = split_seq(sequence)\n",
        "  for three_gram in split_list:\n",
        "    vec_three_gram = embed_dict[three_gram]\n",
        "    sequence_vec = sequence_vec + vec_three_gram\n",
        "  return sequence_vec\n",
        "\n",
        "\n",
        "def embed_site(sequence, site_position, embed_dict):\n",
        "  # Create 3 3-gram embeddings for a specific target site on the sequence and perform summation\n",
        "  site_vec = np.zeros((100, 1))\n",
        "  three_grams = []\n",
        "  for i in range(3):\n",
        "    begin = site_position+i-2\n",
        "    end = site_position+i\n",
        "    three_gram = sequence[begin:end+1]\n",
        "    three_grams.append(three_gram)\n",
        "  for three_gram in three_grams:\n",
        "    vec_three_gram = embed_dict[three_gram]\n",
        "    site_vec += vec_three_gram\n",
        "  return site_vec\n",
        "    \n",
        "\n",
        "def embed_all_sites(sequence_list, site_positions):\n",
        "  # Expects seq_by_month variable, embeds all target sites\n",
        "  all_embedded = []\n",
        "  for site_position in site_positions:\n",
        "    embedded_months = []\n",
        "    for month in sequence_list:\n",
        "      month_embed = []\n",
        "      for sequence in month:\n",
        "        embedded_site = embed_site(str(sequence.seq), site_position, embed_dict)\n",
        "        month_embed.append(embedded_site)\n",
        "      embedded_months.append(month_embed)\n",
        "    all_embedded.append(embedded_months)\n",
        "  return all_embedded\n",
        "      \n",
        "\n",
        "def embed_seq_by_month(sequence_list):\n",
        "  # Expects seq_by_month variable, embeds all sequences\n",
        "  embedded_all = []\n",
        "  for month in sequence_list:\n",
        "    embedded_month = []\n",
        "    for sequence in month:\n",
        "      embedded_month.append(embed(sequence.seq, embed_dict))\n",
        "    embedded_all.append(embedded_month)\n",
        "  return embedded_all\n",
        "\n",
        "\n",
        "def embed_all(fasta_list, file_path):\n",
        "  # Embed all proteins in FASTA file and export as CSV\n",
        "  # Not ordered by month\n",
        "  sequence_vecs = {}\n",
        "  for seq_record in fasta_list:\n",
        "    sequence = str(seq_record.seq)\n",
        "    id = seq_record.id\n",
        "    sequence_vec = embed(sequence, embed_dict)\n",
        "    sequence_vecs[id] = sequence_vec\n",
        "\n",
        "  with open(file_path, \"w\") as csv_file:\n",
        "    writer = csv.writer(csv_file)\n",
        "    for key, value in sequence_vecs.items():\n",
        "      writer.writerow([key, value])\n",
        "\n",
        "  return sequence_vecs"
      ],
      "execution_count": null,
      "outputs": []
    },
    {
      "cell_type": "code",
      "metadata": {
        "id": "8-X5S2mA-4ou"
      },
      "source": [
        "embedded_all = embed_seq_by_month(seq_by_month) # Length of embedded_all should be 12\n",
        "embedded_221 = embed_all_sites(seq_by_month, [221])\n",
        "data_vecs = embed_all(data3, filename)"
      ],
      "execution_count": null,
      "outputs": []
    },
    {
      "cell_type": "code",
      "metadata": {
        "id": "9hoBlvKqs3dG"
      },
      "source": [
        "# Dump the variables to save time \n",
        "with open(filename, 'wb') as filehandle:\n",
        "  pickle.dump(seq_by_month, filehandle)\n",
        "\n",
        "with open(filename, 'wb') as filehandle:\n",
        "  pickle.dump(encoded_sequences, filehandle)\n",
        "\n",
        "with open(filename, 'wb') as filehandle:\n",
        "  pickle.dump(embedded_all, filehandle)"
      ],
      "execution_count": null,
      "outputs": []
    },
    {
      "cell_type": "code",
      "metadata": {
        "id": "rN0NOowByQWG"
      },
      "source": [
        "with open(filename, 'rb') as filehandle:\n",
        "  seq_by_month = pickle.load(filehandle)\n",
        "\n",
        "with open(filename, 'rb') as filehandle:\n",
        "  encoded_sequences = pickle.load(filehandle)\n",
        "\n",
        "with open(filename, 'rb') as filehandle:\n",
        "  embedded_all = pickle.load(filehandle)"
      ],
      "execution_count": null,
      "outputs": []
    },
    {
      "cell_type": "code",
      "metadata": {
        "colab": {
          "base_uri": "https://localhost:8080/",
          "height": 384
        },
        "id": "Aj1W-XssXJ7N",
        "outputId": "ace0c227-f13e-43e0-a0b7-d8a384f2305f"
      },
      "source": [
        "# Examining data distribution\n",
        "\n",
        "dates = []\n",
        "counter = 0 \n",
        "for key in data_vecs:\n",
        "  id = str(key)\n",
        "  match = re.search(r'\\d{4}-\\d{2}-\\d{2}', id)\n",
        "  date = datetime.strptime(match.group(), '%Y-%m-%d')\n",
        "  dates.append(date)\n",
        "\n",
        "months = [date.month for date in dates]\n",
        "tests = [date for date in dates if date.month == 11]\n",
        "frequencies = Counter(months)\n",
        "\n",
        "# x = [i+1 for i in range(12)]\n",
        "x = [\"Dec\", \"Jan\", \"Feb\", \"Mar\", \"Apr\", \"May\", \"Jun\", \"Jul\", \"Aug\", \"Sep\", \"Oct\", \"Nov\"]\n",
        "y = [frequencies[month] for month in frequencies]\n",
        "\n",
        "plt.figure(figsize=(10, 5))\n",
        "bar_plot = plt.bar(x, y, align='edge', width=0.6)\n",
        "axes = plt.gca()\n",
        "axes.set_ylim([0, 30000])\n",
        "plt.xlabel('Month')\n",
        "plt.ylabel('Number of sequences')\n",
        "plt.title('Number of global SARS-CoV-2 sequences available each month')\n",
        "\n",
        "for idx, rect in enumerate(bar_plot):\n",
        "  height = rect.get_height()\n",
        "  plt.text(rect.get_x() + rect.get_width()/2., 1.02 * height,\n",
        "          y[idx],\n",
        "          ha='center', va='bottom', rotation=0)\n"
      ],
      "execution_count": null,
      "outputs": [
        {
          "output_type": "stream",
          "text": [
            "12\n",
            "12\n"
          ],
          "name": "stdout"
        },
        {
          "output_type": "display_data",
          "data": {
            "image/png": "[encoded data removed]",
            "text/plain": [
              "<Figure size 720x360 with 1 Axes>"
            ]
          },
          "metadata": {
            "tags": []
          }
        }
      ]
    },
    {
      "cell_type": "markdown",
      "metadata": {
        "id": "PB_PwWwLsSg-"
      },
      "source": [
        "# Part 4\n",
        "\n",
        "Make the training and test datasets by randomly selecting sequences from each month and link to create a single sample for training. The last and penultimate sequence in the linked sample will be compared to create mutation y labels. "
      ]
    },
    {
      "cell_type": "code",
      "metadata": {
        "id": "zk208yGDxFgX"
      },
      "source": [
        "def link_train(embedded, encoded, num_samples):\n",
        "  # Link December to September, predict October\n",
        "  # Expecting a list of sublists, where each sublist is the ProtVec sequences in a particular month\n",
        "  # Link embedded_all at the same time as encoded\n",
        "  samples_emb = []\n",
        "  samples_enc = []\n",
        "  for i in range(num_samples):\n",
        "    month_enc_samples = []  # One linked list sample\n",
        "    month_emb_samples = []\n",
        "    for j in range(len(embedded) - 1): # len(embedded) = len(encoded) = num months\n",
        "      num_seq = len(embedded[j]) # equivalent here too\n",
        "      rand_int = random.randint(0, num_seq-1) # inclusive, so subtract 1\n",
        "      month_enc_samples.append(encoded[j][rand_int])\n",
        "      month_emb_samples.append(embedded[j][rand_int])\n",
        "    samples_emb.append(month_emb_samples)\n",
        "    samples_enc.append(month_enc_samples)\n",
        "  return samples_emb, samples_enc\n",
        "\n",
        "def link_test(embedded, encoded, num_samples):\n",
        "  # Link January to October, predict November\n",
        "  # Expecting a list of sublists, where each sublist is the ProtVec sequences in a particular month\n",
        "  # Link embedded at the same time as encoded\n",
        "  samples_emb = []\n",
        "  samples_enc = []\n",
        "  for i in range(num_samples):\n",
        "    month_enc_samples = []  # One linked list sample\n",
        "    month_emb_samples = []\n",
        "    for j in range(1, len(embedded)): # len(embedded) = len(encoded)\n",
        "      num_seq = len(embedded[j]) # equivalent here too\n",
        "      rand_int = random.randint(0, num_seq-1) # inclusive, so subtract 1\n",
        "      month_enc_samples.append(encoded[j][rand_int])\n",
        "      month_emb_samples.append(embedded[j][rand_int])\n",
        "    samples_emb.append(month_emb_samples)\n",
        "    samples_enc.append(month_enc_samples)\n",
        "  return samples_emb, samples_enc\n",
        "\n",
        "def separate_data(data):\n",
        "  # Expect list of months with sequence data in each month\n",
        "  # Hard split the data so there is no overlap when performing random sampling\n",
        "  train = []\n",
        "  test = []\n",
        "  for month in data:\n",
        "    train.append(month[0:math.floor(0.7*len(month))])\n",
        "    test.append(month[math.floor(0.7*len(month)):])\n",
        "  return train, test"
      ],
      "execution_count": null,
      "outputs": []
    },
    {
      "cell_type": "code",
      "metadata": {
        "id": "uKNhb4VCDOmO"
      },
      "source": [
        "# Separated data, but not yet linked\n",
        "embed_train, embed_test = separate_data(embedded_all)\n",
        "encode_train, encode_test = separate_data(encoded_sequences)"
      ],
      "execution_count": null,
      "outputs": []
    },
    {
      "cell_type": "code",
      "metadata": {
        "id": "btOQbV8mCyS4"
      },
      "source": [
        "# Separated site data, but not yet linked\n",
        "embed221_train, embed221_test = separate_data(embedded_221[0])\n",
        "encode221_train, encode221_test = separate_data(encoded_221)"
      ],
      "execution_count": null,
      "outputs": []
    },
    {
      "cell_type": "code",
      "metadata": {
        "id": "_m5YZ8EVNt4B"
      },
      "source": [
        "# Linked train and test sets\n",
        "train_embed, train_encode = link_train(embed_train, encode_train, 50000)\n",
        "test_embed, test_encode = link_test(embed_test, encode_test, 5000)"
      ],
      "execution_count": null,
      "outputs": []
    },
    {
      "cell_type": "code",
      "metadata": {
        "id": "FuaoEWOhG6ZN"
      },
      "source": [
        "# Linked train and test sets for site 221\n",
        "train221_embed, train221_encode = link_train(embed221_train, encode221_train, 100000)\n",
        "test221_embed, test221_encode = link_test(embed221_test, encode221_test, 10000)"
      ],
      "execution_count": null,
      "outputs": []
    },
    {
      "cell_type": "code",
      "metadata": {
        "id": "2LzzJik5I92s"
      },
      "source": [
        "# Exclude the embeddings for the last month in each linked list to make the final training dataset\n",
        "X_train = []\n",
        "for i in range(len(train_embed)):\n",
        "  X_train.append(train_embed[i][0:-1])  # Everything except October\n",
        "\n",
        "X_test = []\n",
        "for j in range(len(test_embed)):\n",
        "  X_test.append(test_embed[j][0:-1])  # Everything except November"
      ],
      "execution_count": null,
      "outputs": []
    },
    {
      "cell_type": "code",
      "metadata": {
        "id": "HkKeeLagHWsV"
      },
      "source": [
        "# Exclude the embeddings for the last month in each linked list to make the final training dataset - site 221\n",
        "X221_train = []\n",
        "for i in range(len(train221_embed)):\n",
        "  X221_train.append(train221_embed[i][0:-1])  # Everything except October\n",
        "\n",
        "X221_test = []\n",
        "for j in range(len(test221_embed)):\n",
        "  X221_test.append(test221_embed[j][0:-1])  # Everything except November"
      ],
      "execution_count": null,
      "outputs": []
    },
    {
      "cell_type": "code",
      "metadata": {
        "id": "51T0lZQTl2tE"
      },
      "source": [
        "X_train = np.array(X_train).reshape(50000, 10, 100)\n",
        "X_test = np.array(X_test).reshape(5000, 10, 100)"
      ],
      "execution_count": null,
      "outputs": []
    },
    {
      "cell_type": "code",
      "metadata": {
        "id": "wLKWbJdjIQa6"
      },
      "source": [
        "X221_train = np.array(X221_train).reshape(100000, 10, 100)\n",
        "X221_test = np.array(X221_test).reshape(10000, 10, 100)"
      ],
      "execution_count": null,
      "outputs": []
    },
    {
      "cell_type": "code",
      "metadata": {
        "colab": {
          "base_uri": "https://localhost:8080/"
        },
        "id": "OBm63_XymBkR",
        "outputId": "ff3f237b-8d1a-48fa-ec1c-b22af55f59ba"
      },
      "source": [
        "print(X221_train.shape)  # (number of samples, time steps, features/dimension of ProtVec)"
      ],
      "execution_count": null,
      "outputs": [
        {
          "output_type": "stream",
          "text": [
            "(100000, 10, 100)\n"
          ],
          "name": "stdout"
        }
      ]
    },
    {
      "cell_type": "code",
      "metadata": {
        "id": "nEEagj6OMxWc"
      },
      "source": [
        "# Make labels by comparing penultimate with last sequences\n",
        "# Requires linked categorical dataset\n",
        "\n",
        "def make_labels(linked_enc):\n",
        "  # Returns list of numpy arrays that contains categorical labels for mutations at specific sites\n",
        "  y = []\n",
        "  for i in range(len(linked_enc)):\n",
        "    labels = np.zeros(1273)\n",
        "    last = linked_enc[i][10]\n",
        "    penultimate = linked_enc[i][9]\n",
        "    for j in range(len(last)):\n",
        "      if last[j] != penultimate[j]:\n",
        "        labels[j] = 1\n",
        "    y.append(labels)\n",
        "  return y\n",
        "\n",
        "def make_site_labels(linked_enc):\n",
        "# Returns list of numpy arrays that contains categorical labels for mutations at one specific site\n",
        "  y = []\n",
        "  for i in range(len(linked_enc)):\n",
        "    label = 0\n",
        "    last = linked_enc[i][10]\n",
        "    penultimate = linked_enc[i][9]\n",
        "    if last != penultimate:\n",
        "      label += 1\n",
        "    y.append(label)\n",
        "  return y"
      ],
      "execution_count": null,
      "outputs": []
    },
    {
      "cell_type": "code",
      "metadata": {
        "id": "GJgMZEKSHLjh"
      },
      "source": [
        "y_train = make_labels(train_encode)  # Same order as embedded_samples\n",
        "y_test = make_labels(test_encode)"
      ],
      "execution_count": null,
      "outputs": []
    },
    {
      "cell_type": "code",
      "metadata": {
        "id": "fWf1EYzhJAZA"
      },
      "source": [
        "y221_train = make_site_labels(train221_encode)  # Same order as embedded_samples\n",
        "y221_test = make_site_labels(test221_encode)"
      ],
      "execution_count": null,
      "outputs": []
    },
    {
      "cell_type": "code",
      "metadata": {
        "id": "akaKLu0QmTtO"
      },
      "source": [
        "y_train = np.array(y_train)\n",
        "y_test = np.array(y_test)"
      ],
      "execution_count": null,
      "outputs": []
    },
    {
      "cell_type": "code",
      "metadata": {
        "id": "-uzsItJaJvb3"
      },
      "source": [
        "y221_train = np.array(y221_train)\n",
        "y221_test = np.array(y221_test)"
      ],
      "execution_count": null,
      "outputs": []
    },
    {
      "cell_type": "code",
      "metadata": {
        "colab": {
          "base_uri": "https://localhost:8080/"
        },
        "id": "uWbYemLLJ9OK",
        "outputId": "af46d994-bf1b-4621-f9b6-5872fe53d5fe"
      },
      "source": [
        "print(np.count_nonzero(y221_train==0))\n",
        "print(np.count_nonzero(y221_train==1))\n",
        "# Pretty even distribution of the number of times mutation 221 appears."
      ],
      "execution_count": null,
      "outputs": [
        {
          "output_type": "stream",
          "text": [
            "23995\n",
            "26005\n"
          ],
          "name": "stdout"
        }
      ]
    },
    {
      "cell_type": "code",
      "metadata": {
        "id": "p_vyR7JXbYLf"
      },
      "source": [
        "# Some useful code for understanding the data\n",
        "# Finding the item in the list which produced the max mutations \n",
        "train_sum = np.sum(y_train, axis=1)\n",
        "max_ind = np.argmax(train_sum)  # argmin, sometimes there is no mutations too\n",
        "most_mutations = train_sum[max_ind]\n",
        "print(most_mutations)\n",
        "\n",
        "# Finding the average number of mutations for the training data\n",
        "average_mutations = np.sum(train_sum)/len(y_train)\n",
        "print(average_mutations)\n",
        "\n",
        "# Find the mutation distribution of the data \n",
        "mutation_vec = np.zeros(1273)\n",
        "no_mutations = 0\n",
        "\n",
        "for i in range(50000):\n",
        "  label = y_train[i]\n",
        "  if np.sum(label) == 0:\n",
        "    no_mutations += 1\n",
        "  else:\n",
        "    for j in range(len(label)):\n",
        "      if label[j] == 1:\n",
        "        mutation_vec[j] += 1\n",
        "      else:\n",
        "        continue\n",
        "\n",
        "mutation_221 = 0\n",
        "for i in range(300000):\n",
        "  label = y_train[i]\n",
        "  if label[221] == 1 and np.sum(label) == 1:\n",
        "    mutation_221 += 1\n",
        "\n",
        "mutation_221_3 = 0\n",
        "for i in range(300000):\n",
        "  label = y_train[i]\n",
        "  if label[221] == 1 and np.sum(label) == 3:\n",
        "    mutation_221_3 += 1"
      ],
      "execution_count": null,
      "outputs": []
    },
    {
      "cell_type": "code",
      "metadata": {
        "colab": {
          "base_uri": "https://localhost:8080/",
          "height": 312
        },
        "id": "_OI94FDkw22C",
        "outputId": "ae66587a-7b27-4d22-a4c0-251247411c5e"
      },
      "source": [
        "plt.plot(mutation_vec)\n",
        "plt.xlabel('Amino acid sequence positions')\n",
        "plt.ylabel('Mutation frequency')\n",
        "plt.title('Mutation frequency for sequence sites between September and October')"
      ],
      "execution_count": null,
      "outputs": [
        {
          "output_type": "execute_result",
          "data": {
            "text/plain": [
              "Text(0.5, 1.0, 'Mutation frequency for sequence sites between September and October')"
            ]
          },
          "metadata": {
            "tags": []
          },
          "execution_count": 94
        },
        {
          "output_type": "display_data",
          "data": {
            "image/png": "[encoded data removed]",
            "text/plain": [
              "<Figure size 432x288 with 1 Axes>"
            ]
          },
          "metadata": {
            "tags": [],
            "needs_background": "light"
          }
        }
      ]
    },
    {
      "cell_type": "code",
      "metadata": {
        "colab": {
          "base_uri": "https://localhost:8080/"
        },
        "id": "FntzBw3amXME",
        "outputId": "587b7fa3-fe7a-40c3-cff1-4d1e1d193ef6"
      },
      "source": [
        "print(y_train.shape)  # (number of samples, dimension of labels)"
      ],
      "execution_count": null,
      "outputs": [
        {
          "output_type": "stream",
          "text": [
            "(50000, 1273)\n"
          ],
          "name": "stdout"
        }
      ]
    },
    {
      "cell_type": "code",
      "metadata": {
        "id": "18plEFdJRwWi"
      },
      "source": [
        "# Useful sanity checks\n",
        "# print(test_encode[0][8][0])\n",
        "# print(test_encode[0][9][0])\n",
        "test1 = test_encode[0][8]\n",
        "test2 = test_encode[0][9]\n",
        "\n",
        "labels = np.zeros(1273)\n",
        "\n",
        "for i in range(len(test1)):\n",
        "  if test1[i] != test2[i]:\n",
        "    print((test1[i], test2[i], i))\n",
        "    labels[i] = 1\n",
        "\n",
        "print(np.where(labels == 1))"
      ],
      "execution_count": null,
      "outputs": []
    },
    {
      "cell_type": "markdown",
      "metadata": {
        "id": "bLe7sdWCBhea"
      },
      "source": [
        "# Part 5\n",
        "\n",
        "Model construction and training the following models can be used for both the specific site mutation prediction as well as the full sequence mutation prediction. "
      ]
    },
    {
      "cell_type": "code",
      "metadata": {
        "colab": {
          "base_uri": "https://localhost:8080/"
        },
        "id": "Fpb-hfSp_efq",
        "outputId": "2f571f38-c5e8-4f4e-a676-254372f1cba9"
      },
      "source": [
        "pip install keras-self-attention"
      ],
      "execution_count": null,
      "outputs": [
        {
          "output_type": "stream",
          "text": [
            "Requirement already satisfied: keras-self-attention in /usr/local/lib/python3.6/dist-packages (0.47.0)\n",
            "Requirement already satisfied: Keras in /usr/local/lib/python3.6/dist-packages (from keras-self-attention) (2.4.3)\n",
            "Requirement already satisfied: numpy in /usr/local/lib/python3.6/dist-packages (from keras-self-attention) (1.18.5)\n",
            "Requirement already satisfied: h5py in /usr/local/lib/python3.6/dist-packages (from Keras->keras-self-attention) (2.10.0)\n",
            "Requirement already satisfied: pyyaml in /usr/local/lib/python3.6/dist-packages (from Keras->keras-self-attention) (3.13)\n",
            "Requirement already satisfied: scipy>=0.14 in /usr/local/lib/python3.6/dist-packages (from Keras->keras-self-attention) (1.4.1)\n",
            "Requirement already satisfied: six in /usr/local/lib/python3.6/dist-packages (from h5py->Keras->keras-self-attention) (1.15.0)\n"
          ],
          "name": "stdout"
        }
      ]
    },
    {
      "cell_type": "code",
      "metadata": {
        "id": "fmsPluLO8U00"
      },
      "source": [
        "lr_reduction = ReduceLROnPlateau(monitor='val_accuracy',\n",
        "                                 patience=3,\n",
        "                                 verbose=1,\n",
        "                                 factor=0.5,\n",
        "                                 min_lr=0.000001)"
      ],
      "execution_count": null,
      "outputs": []
    },
    {
      "cell_type": "code",
      "metadata": {
        "id": "9rWGNdQu3rlw"
      },
      "source": [
        "class attention(Layer):\n",
        "    def __init__(self, units, output_dim):\n",
        "      self.units = units\n",
        "      self.output_dim = output_dim\n",
        "\n",
        "    def build(self,input_shape):\n",
        "        self.W=self.add_weight(name=\"att_weight\",shape=(input_shape[-1],1),initializer=\"normal\")\n",
        "        self.b=self.add_weight(name=\"att_bias\",shape=(input_shape[1],1),initializer=\"zeros\")        \n",
        "        super(attention, self).build(input_shape)\n",
        "\n",
        "    def call(self,x):\n",
        "        et=K.squeeze(K.tanh(K.dot(x,self.W)+self.b),axis=-1)\n",
        "        at=K.softmax(et)\n",
        "        at=K.expand_dims(at,axis=-1)\n",
        "        output=x*at\n",
        "        return K.sum(output,axis=1)\n",
        "\n",
        "    def compute_output_shape(self,input_shape):\n",
        "        return (input_shape[0],input_shape[-1])\n",
        "\n",
        "    def get_config(self):\n",
        "        return super(attention,self).get_config()"
      ],
      "execution_count": null,
      "outputs": []
    },
    {
      "cell_type": "code",
      "metadata": {
        "id": "f9S-K-Ch5uJ0"
      },
      "source": [
        "METRICS = [\n",
        "      keras.metrics.TruePositives(name='tp'),\n",
        "      keras.metrics.FalsePositives(name='fp'),\n",
        "      keras.metrics.TrueNegatives(name='tn'),\n",
        "      keras.metrics.FalseNegatives(name='fn'), \n",
        "      keras.metrics.Precision(name='precision'),\n",
        "      keras.metrics.Recall(name='recall'),\n",
        "]\n",
        "\n",
        "model = keras.Sequential()\n",
        "model.add(layers.LSTM(units=128, return_sequences=True, input_shape=(X221_train.shape[1], X221_train.shape[2])))\n",
        "# model.add(layers.LSTM(units=128, return_sequences=True, input_shape=(X_train.shape[1], X_train.shape[2])))  # Use this line instead of the previous if doing full sequence prediction\n",
        "model.add(layers.LSTM(units=128))\n",
        "model.add(Dropout(0.2))\n",
        "model.add(Dense(units=1, activation='sigmoid'))  # Change units to 1273 in the fully connected layer if doing full sequence prediction\n",
        "model.compile(loss='categorical_crossentropy', optimizer=keras.optimizers.Adam(learning_rate=0.0001), metrics=[METRICS, 'accuracy'])\n",
        "\n",
        "# Checkpointing\n",
        "filepath=\"weights-improvement-trial-randomstate_7.hdf5\"\n",
        "checkpoint = ModelCheckpoint(filepath, monitor='val_accuracy', verbose=1, \n",
        "                             save_best_only=True, mode='max')\n",
        "callbacks_list = [checkpoint]\n",
        "callbacks_list += [lr_reduction]\n",
        "\n",
        "\n",
        "# An attention model I was playing with, but this is not supported with the code I have written\n",
        "\n",
        "# model = keras.Sequential()\n",
        "\n",
        "# model.add(layers.LSTM(units=128, return_sequences=True, input_shape=(X_train.shape[1], X_train.shape[2])))\n",
        "# model.add(layers.LSTM(units=128, return_sequences=True))\n",
        "# model.add(SeqWeightedAttention())\n",
        "# model.add(Dropout(0.2))\n",
        "# model.add(Dense(units=1273,activation='sigmoid'))\n",
        "# model.summary()\n",
        "\n",
        "# model.add(Dropout(0.2))\n",
        "# model.add(keras.layers.Dense(units=1273))"
      ],
      "execution_count": null,
      "outputs": []
    },
    {
      "cell_type": "code",
      "metadata": {
        "colab": {
          "base_uri": "https://localhost:8080/"
        },
        "id": "EASO1cIC_I0q",
        "outputId": "24e845a0-04bb-4c6d-d89e-4581e76be27f"
      },
      "source": [
        "history = model.fit(\n",
        "    X221_train, y221_train,\n",
        "    epochs=50,\n",
        "    batch_size=32,\n",
        "    validation_split=0.2,\n",
        "    verbose=1,\n",
        "    shuffle=False,\n",
        "    callbacks=callbacks_list\n",
        "    )"
      ],
      "execution_count": null,
      "outputs": [
        {
          "output_type": "stream",
          "text": [
            "Epoch 1/50\n",
            "2499/2500 [============================>.] - ETA: 0s - loss: 6.1431e-08 - tp: 14847.0000 - fp: 13773.0000 - tn: 24986.0000 - fn: 26362.0000 - precision: 0.5188 - recall: 0.3603 - accuracy: 0.4981\n",
            "Epoch 00001: val_accuracy improved from -inf to 0.47995, saving model to weights-improvement-trial-randomstate_7.hdf5\n",
            "2500/2500 [==============================] - 85s 34ms/step - loss: 6.1426e-08 - tp: 14849.0000 - fp: 13778.0000 - tn: 25000.0000 - fn: 26373.0000 - precision: 0.5187 - recall: 0.3602 - accuracy: 0.4981 - val_loss: 6.2001e-08 - val_tp: 1.0000 - val_fp: 0.0000e+00 - val_tn: 9598.0000 - val_fn: 10401.0000 - val_precision: 1.0000 - val_recall: 9.6135e-05 - val_accuracy: 0.4800\n",
            "Epoch 2/50\n",
            "2499/2500 [============================>.] - ETA: 0s - loss: 6.1431e-08 - tp: 15022.0000 - fp: 13857.0000 - tn: 24902.0000 - fn: 26187.0000 - precision: 0.5202 - recall: 0.3645 - accuracy: 0.4992\n",
            "Epoch 00002: val_accuracy did not improve from 0.47995\n",
            "2500/2500 [==============================] - 81s 33ms/step - loss: 6.1426e-08 - tp: 15027.0000 - fp: 13860.0000 - tn: 24918.0000 - fn: 26195.0000 - precision: 0.5202 - recall: 0.3645 - accuracy: 0.4993 - val_loss: 6.2001e-08 - val_tp: 1.0000 - val_fp: 0.0000e+00 - val_tn: 9598.0000 - val_fn: 10401.0000 - val_precision: 1.0000 - val_recall: 9.6135e-05 - val_accuracy: 0.4800\n",
            "Epoch 3/50\n",
            "2500/2500 [==============================] - ETA: 0s - loss: 6.1426e-08 - tp: 14833.0000 - fp: 13881.0000 - tn: 24897.0000 - fn: 26389.0000 - precision: 0.5166 - recall: 0.3598 - accuracy: 0.4966\n",
            "Epoch 00003: val_accuracy did not improve from 0.47995\n",
            "2500/2500 [==============================] - 81s 32ms/step - loss: 6.1426e-08 - tp: 14833.0000 - fp: 13881.0000 - tn: 24897.0000 - fn: 26389.0000 - precision: 0.5166 - recall: 0.3598 - accuracy: 0.4966 - val_loss: 6.2001e-08 - val_tp: 1.0000 - val_fp: 0.0000e+00 - val_tn: 9598.0000 - val_fn: 10401.0000 - val_precision: 1.0000 - val_recall: 9.6135e-05 - val_accuracy: 0.4800\n",
            "Epoch 4/50\n",
            "2500/2500 [==============================] - ETA: 0s - loss: 6.1426e-08 - tp: 14892.0000 - fp: 14060.0000 - tn: 24718.0000 - fn: 26330.0000 - precision: 0.5144 - recall: 0.3613 - accuracy: 0.4951\n",
            "Epoch 00004: val_accuracy did not improve from 0.47995\n",
            "\n",
            "Epoch 00004: ReduceLROnPlateau reducing learning rate to 4.999999873689376e-05.\n",
            "2500/2500 [==============================] - 84s 34ms/step - loss: 6.1426e-08 - tp: 14892.0000 - fp: 14060.0000 - tn: 24718.0000 - fn: 26330.0000 - precision: 0.5144 - recall: 0.3613 - accuracy: 0.4951 - val_loss: 6.2001e-08 - val_tp: 1.0000 - val_fp: 0.0000e+00 - val_tn: 9598.0000 - val_fn: 10401.0000 - val_precision: 1.0000 - val_recall: 9.6135e-05 - val_accuracy: 0.4800\n",
            "Epoch 5/50\n",
            "2499/2500 [============================>.] - ETA: 0s - loss: 6.1431e-08 - tp: 14790.0000 - fp: 13859.0000 - tn: 24900.0000 - fn: 26419.0000 - precision: 0.5162 - recall: 0.3589 - accuracy: 0.4963\n",
            "Epoch 00005: val_accuracy did not improve from 0.47995\n",
            "2500/2500 [==============================] - 85s 34ms/step - loss: 6.1426e-08 - tp: 14793.0000 - fp: 13866.0000 - tn: 24912.0000 - fn: 26429.0000 - precision: 0.5162 - recall: 0.3589 - accuracy: 0.4963 - val_loss: 6.2001e-08 - val_tp: 1.0000 - val_fp: 0.0000e+00 - val_tn: 9598.0000 - val_fn: 10401.0000 - val_precision: 1.0000 - val_recall: 9.6135e-05 - val_accuracy: 0.4800\n",
            "Epoch 6/50\n",
            "2499/2500 [============================>.] - ETA: 0s - loss: 6.1431e-08 - tp: 14849.0000 - fp: 13871.0000 - tn: 24888.0000 - fn: 26360.0000 - precision: 0.5170 - recall: 0.3603 - accuracy: 0.4969\n",
            "Epoch 00006: val_accuracy did not improve from 0.47995\n",
            "2500/2500 [==============================] - 82s 33ms/step - loss: 6.1426e-08 - tp: 14853.0000 - fp: 13877.0000 - tn: 24901.0000 - fn: 26369.0000 - precision: 0.5170 - recall: 0.3603 - accuracy: 0.4969 - val_loss: 6.2001e-08 - val_tp: 1.0000 - val_fp: 0.0000e+00 - val_tn: 9598.0000 - val_fn: 10401.0000 - val_precision: 1.0000 - val_recall: 9.6135e-05 - val_accuracy: 0.4800\n",
            "Epoch 7/50\n",
            "2499/2500 [============================>.] - ETA: 0s - loss: 6.1431e-08 - tp: 14989.0000 - fp: 13716.0000 - tn: 25043.0000 - fn: 26220.0000 - precision: 0.5222 - recall: 0.3637 - accuracy: 0.5006\n",
            "Epoch 00007: val_accuracy did not improve from 0.47995\n",
            "\n",
            "Epoch 00007: ReduceLROnPlateau reducing learning rate to 2.499999936844688e-05.\n",
            "2500/2500 [==============================] - 85s 34ms/step - loss: 6.1426e-08 - tp: 14993.0000 - fp: 13721.0000 - tn: 25057.0000 - fn: 26229.0000 - precision: 0.5221 - recall: 0.3637 - accuracy: 0.5006 - val_loss: 6.2001e-08 - val_tp: 1.0000 - val_fp: 0.0000e+00 - val_tn: 9598.0000 - val_fn: 10401.0000 - val_precision: 1.0000 - val_recall: 9.6135e-05 - val_accuracy: 0.4800\n",
            "Epoch 8/50\n",
            "2499/2500 [============================>.] - ETA: 0s - loss: 6.1431e-08 - tp: 14910.0000 - fp: 13717.0000 - tn: 25042.0000 - fn: 26299.0000 - precision: 0.5208 - recall: 0.3618 - accuracy: 0.4996\n",
            "Epoch 00008: val_accuracy did not improve from 0.47995\n",
            "2500/2500 [==============================] - 82s 33ms/step - loss: 6.1426e-08 - tp: 14916.0000 - fp: 13727.0000 - tn: 25051.0000 - fn: 26306.0000 - precision: 0.5208 - recall: 0.3618 - accuracy: 0.4996 - val_loss: 6.2001e-08 - val_tp: 1.0000 - val_fp: 0.0000e+00 - val_tn: 9598.0000 - val_fn: 10401.0000 - val_precision: 1.0000 - val_recall: 9.6135e-05 - val_accuracy: 0.4800\n",
            "Epoch 9/50\n",
            "2499/2500 [============================>.] - ETA: 0s - loss: 6.1431e-08 - tp: 14828.0000 - fp: 13793.0000 - tn: 24966.0000 - fn: 26381.0000 - precision: 0.5181 - recall: 0.3598 - accuracy: 0.4976\n",
            "Epoch 00009: val_accuracy did not improve from 0.47995\n",
            "2500/2500 [==============================] - 79s 32ms/step - loss: 6.1426e-08 - tp: 14832.0000 - fp: 13802.0000 - tn: 24976.0000 - fn: 26390.0000 - precision: 0.5180 - recall: 0.3598 - accuracy: 0.4976 - val_loss: 6.2001e-08 - val_tp: 1.0000 - val_fp: 0.0000e+00 - val_tn: 9598.0000 - val_fn: 10401.0000 - val_precision: 1.0000 - val_recall: 9.6135e-05 - val_accuracy: 0.4800\n",
            "Epoch 10/50\n",
            "2500/2500 [==============================] - ETA: 0s - loss: 6.1426e-08 - tp: 14855.0000 - fp: 13876.0000 - tn: 24902.0000 - fn: 26367.0000 - precision: 0.5170 - recall: 0.3604 - accuracy: 0.4970\n",
            "Epoch 00010: val_accuracy did not improve from 0.47995\n",
            "\n",
            "Epoch 00010: ReduceLROnPlateau reducing learning rate to 1.249999968422344e-05.\n",
            "2500/2500 [==============================] - 80s 32ms/step - loss: 6.1426e-08 - tp: 14855.0000 - fp: 13876.0000 - tn: 24902.0000 - fn: 26367.0000 - precision: 0.5170 - recall: 0.3604 - accuracy: 0.4970 - val_loss: 6.2001e-08 - val_tp: 1.0000 - val_fp: 0.0000e+00 - val_tn: 9598.0000 - val_fn: 10401.0000 - val_precision: 1.0000 - val_recall: 9.6135e-05 - val_accuracy: 0.4800\n",
            "Epoch 11/50\n",
            "2500/2500 [==============================] - ETA: 0s - loss: 6.1426e-08 - tp: 14897.0000 - fp: 13925.0000 - tn: 24853.0000 - fn: 26325.0000 - precision: 0.5169 - recall: 0.3614 - accuracy: 0.4969\n",
            "Epoch 00011: val_accuracy did not improve from 0.47995\n",
            "2500/2500 [==============================] - 79s 32ms/step - loss: 6.1426e-08 - tp: 14897.0000 - fp: 13925.0000 - tn: 24853.0000 - fn: 26325.0000 - precision: 0.5169 - recall: 0.3614 - accuracy: 0.4969 - val_loss: 6.2001e-08 - val_tp: 1.0000 - val_fp: 0.0000e+00 - val_tn: 9598.0000 - val_fn: 10401.0000 - val_precision: 1.0000 - val_recall: 9.6135e-05 - val_accuracy: 0.4800\n",
            "Epoch 12/50\n",
            "2499/2500 [============================>.] - ETA: 0s - loss: 6.1431e-08 - tp: 14839.0000 - fp: 13866.0000 - tn: 24893.0000 - fn: 26370.0000 - precision: 0.5169 - recall: 0.3601 - accuracy: 0.4968\n",
            "Epoch 00012: val_accuracy did not improve from 0.47995\n",
            "2500/2500 [==============================] - 81s 32ms/step - loss: 6.1426e-08 - tp: 14843.0000 - fp: 13872.0000 - tn: 24906.0000 - fn: 26379.0000 - precision: 0.5169 - recall: 0.3601 - accuracy: 0.4969 - val_loss: 6.2001e-08 - val_tp: 1.0000 - val_fp: 0.0000e+00 - val_tn: 9598.0000 - val_fn: 10401.0000 - val_precision: 1.0000 - val_recall: 9.6135e-05 - val_accuracy: 0.4800\n",
            "Epoch 13/50\n",
            "2500/2500 [==============================] - ETA: 0s - loss: 6.1426e-08 - tp: 14853.0000 - fp: 13811.0000 - tn: 24967.0000 - fn: 26369.0000 - precision: 0.5182 - recall: 0.3603 - accuracy: 0.4978\n",
            "Epoch 00013: val_accuracy did not improve from 0.47995\n",
            "\n",
            "Epoch 00013: ReduceLROnPlateau reducing learning rate to 6.24999984211172e-06.\n",
            "2500/2500 [==============================] - 79s 32ms/step - loss: 6.1426e-08 - tp: 14853.0000 - fp: 13811.0000 - tn: 24967.0000 - fn: 26369.0000 - precision: 0.5182 - recall: 0.3603 - accuracy: 0.4978 - val_loss: 6.2001e-08 - val_tp: 1.0000 - val_fp: 0.0000e+00 - val_tn: 9598.0000 - val_fn: 10401.0000 - val_precision: 1.0000 - val_recall: 9.6135e-05 - val_accuracy: 0.4800\n",
            "Epoch 14/50\n",
            "2499/2500 [============================>.] - ETA: 0s - loss: 6.1431e-08 - tp: 14904.0000 - fp: 13865.0000 - tn: 24894.0000 - fn: 26305.0000 - precision: 0.5181 - recall: 0.3617 - accuracy: 0.4977\n",
            "Epoch 00014: val_accuracy did not improve from 0.47995\n",
            "2500/2500 [==============================] - 79s 32ms/step - loss: 6.1426e-08 - tp: 14909.0000 - fp: 13869.0000 - tn: 24909.0000 - fn: 26313.0000 - precision: 0.5181 - recall: 0.3617 - accuracy: 0.4977 - val_loss: 6.2001e-08 - val_tp: 1.0000 - val_fp: 0.0000e+00 - val_tn: 9598.0000 - val_fn: 10401.0000 - val_precision: 1.0000 - val_recall: 9.6135e-05 - val_accuracy: 0.4800\n",
            "Epoch 15/50\n",
            "2500/2500 [==============================] - ETA: 0s - loss: 6.1426e-08 - tp: 14976.0000 - fp: 13735.0000 - tn: 25043.0000 - fn: 26246.0000 - precision: 0.5216 - recall: 0.3633 - accuracy: 0.5002\n",
            "Epoch 00015: val_accuracy did not improve from 0.47995\n",
            "2500/2500 [==============================] - 80s 32ms/step - loss: 6.1426e-08 - tp: 14976.0000 - fp: 13735.0000 - tn: 25043.0000 - fn: 26246.0000 - precision: 0.5216 - recall: 0.3633 - accuracy: 0.5002 - val_loss: 6.2001e-08 - val_tp: 1.0000 - val_fp: 0.0000e+00 - val_tn: 9598.0000 - val_fn: 10401.0000 - val_precision: 1.0000 - val_recall: 9.6135e-05 - val_accuracy: 0.4800\n",
            "Epoch 16/50\n",
            "2499/2500 [============================>.] - ETA: 0s - loss: 6.1431e-08 - tp: 14805.0000 - fp: 13674.0000 - tn: 25085.0000 - fn: 26404.0000 - precision: 0.5199 - recall: 0.3593 - accuracy: 0.4988\n",
            "Epoch 00016: val_accuracy did not improve from 0.47995\n",
            "\n",
            "Epoch 00016: ReduceLROnPlateau reducing learning rate to 3.12499992105586e-06.\n",
            "2500/2500 [==============================] - 82s 33ms/step - loss: 6.1426e-08 - tp: 14811.0000 - fp: 13680.0000 - tn: 25098.0000 - fn: 26411.0000 - precision: 0.5198 - recall: 0.3593 - accuracy: 0.4989 - val_loss: 6.2001e-08 - val_tp: 1.0000 - val_fp: 0.0000e+00 - val_tn: 9598.0000 - val_fn: 10401.0000 - val_precision: 1.0000 - val_recall: 9.6135e-05 - val_accuracy: 0.4800\n",
            "Epoch 17/50\n",
            "2499/2500 [============================>.] - ETA: 0s - loss: 6.1431e-08 - tp: 14828.0000 - fp: 13776.0000 - tn: 24983.0000 - fn: 26381.0000 - precision: 0.5184 - recall: 0.3598 - accuracy: 0.4978\n",
            "Epoch 00017: val_accuracy did not improve from 0.47995\n",
            "2500/2500 [==============================] - 84s 33ms/step - loss: 6.1426e-08 - tp: 14831.0000 - fp: 13783.0000 - tn: 24995.0000 - fn: 26391.0000 - precision: 0.5183 - recall: 0.3598 - accuracy: 0.4978 - val_loss: 6.2001e-08 - val_tp: 1.0000 - val_fp: 0.0000e+00 - val_tn: 9598.0000 - val_fn: 10401.0000 - val_precision: 1.0000 - val_recall: 9.6135e-05 - val_accuracy: 0.4800\n",
            "Epoch 18/50\n",
            "2499/2500 [============================>.] - ETA: 0s - loss: 6.1431e-08 - tp: 14997.0000 - fp: 13830.0000 - tn: 24929.0000 - fn: 26212.0000 - precision: 0.5202 - recall: 0.3639 - accuracy: 0.4993\n",
            "Epoch 00018: val_accuracy did not improve from 0.47995\n",
            "2500/2500 [==============================] - 80s 32ms/step - loss: 6.1426e-08 - tp: 15005.0000 - fp: 13839.0000 - tn: 24939.0000 - fn: 26217.0000 - precision: 0.5202 - recall: 0.3640 - accuracy: 0.4993 - val_loss: 6.2001e-08 - val_tp: 1.0000 - val_fp: 0.0000e+00 - val_tn: 9598.0000 - val_fn: 10401.0000 - val_precision: 1.0000 - val_recall: 9.6135e-05 - val_accuracy: 0.4800\n",
            "Epoch 19/50\n",
            "2499/2500 [============================>.] - ETA: 0s - loss: 6.1431e-08 - tp: 14778.0000 - fp: 13765.0000 - tn: 24994.0000 - fn: 26431.0000 - precision: 0.5177 - recall: 0.3586 - accuracy: 0.4973\n",
            "Epoch 00019: val_accuracy did not improve from 0.47995\n",
            "\n",
            "Epoch 00019: ReduceLROnPlateau reducing learning rate to 1.56249996052793e-06.\n",
            "2500/2500 [==============================] - 79s 32ms/step - loss: 6.1426e-08 - tp: 14787.0000 - fp: 13776.0000 - tn: 25002.0000 - fn: 26435.0000 - precision: 0.5177 - recall: 0.3587 - accuracy: 0.4974 - val_loss: 6.2001e-08 - val_tp: 1.0000 - val_fp: 0.0000e+00 - val_tn: 9598.0000 - val_fn: 10401.0000 - val_precision: 1.0000 - val_recall: 9.6135e-05 - val_accuracy: 0.4800\n",
            "Epoch 20/50\n",
            "2499/2500 [============================>.] - ETA: 0s - loss: 6.1431e-08 - tp: 14897.0000 - fp: 13836.0000 - tn: 24923.0000 - fn: 26312.0000 - precision: 0.5185 - recall: 0.3615 - accuracy: 0.4979\n",
            "Epoch 00020: val_accuracy did not improve from 0.47995\n",
            "2500/2500 [==============================] - 82s 33ms/step - loss: 6.1426e-08 - tp: 14901.0000 - fp: 13843.0000 - tn: 24935.0000 - fn: 26321.0000 - precision: 0.5184 - recall: 0.3615 - accuracy: 0.4979 - val_loss: 6.2001e-08 - val_tp: 1.0000 - val_fp: 0.0000e+00 - val_tn: 9598.0000 - val_fn: 10401.0000 - val_precision: 1.0000 - val_recall: 9.6135e-05 - val_accuracy: 0.4800\n",
            "Epoch 21/50\n",
            "2499/2500 [============================>.] - ETA: 0s - loss: 6.1431e-08 - tp: 14968.0000 - fp: 13662.0000 - tn: 25097.0000 - fn: 26241.0000 - precision: 0.5228 - recall: 0.3632 - accuracy: 0.5010\n",
            "Epoch 00021: val_accuracy did not improve from 0.47995\n",
            "2500/2500 [==============================] - 83s 33ms/step - loss: 6.1426e-08 - tp: 14969.0000 - fp: 13668.0000 - tn: 25110.0000 - fn: 26253.0000 - precision: 0.5227 - recall: 0.3631 - accuracy: 0.5010 - val_loss: 6.2001e-08 - val_tp: 1.0000 - val_fp: 0.0000e+00 - val_tn: 9598.0000 - val_fn: 10401.0000 - val_precision: 1.0000 - val_recall: 9.6135e-05 - val_accuracy: 0.4800\n",
            "Epoch 22/50\n",
            "2500/2500 [==============================] - ETA: 0s - loss: 6.1426e-08 - tp: 14705.0000 - fp: 13885.0000 - tn: 24893.0000 - fn: 26517.0000 - precision: 0.5143 - recall: 0.3567 - accuracy: 0.4950\n",
            "Epoch 00022: val_accuracy did not improve from 0.47995\n",
            "\n",
            "Epoch 00022: ReduceLROnPlateau reducing learning rate to 1e-06.\n",
            "2500/2500 [==============================] - 86s 34ms/step - loss: 6.1426e-08 - tp: 14705.0000 - fp: 13885.0000 - tn: 24893.0000 - fn: 26517.0000 - precision: 0.5143 - recall: 0.3567 - accuracy: 0.4950 - val_loss: 6.2001e-08 - val_tp: 1.0000 - val_fp: 0.0000e+00 - val_tn: 9598.0000 - val_fn: 10401.0000 - val_precision: 1.0000 - val_recall: 9.6135e-05 - val_accuracy: 0.4800\n",
            "Epoch 23/50\n",
            "2500/2500 [==============================] - ETA: 0s - loss: 6.1426e-08 - tp: 14895.0000 - fp: 13839.0000 - tn: 24939.0000 - fn: 26327.0000 - precision: 0.5184 - recall: 0.3613 - accuracy: 0.4979\n",
            "Epoch 00023: val_accuracy did not improve from 0.47995\n",
            "2500/2500 [==============================] - 82s 33ms/step - loss: 6.1426e-08 - tp: 14895.0000 - fp: 13839.0000 - tn: 24939.0000 - fn: 26327.0000 - precision: 0.5184 - recall: 0.3613 - accuracy: 0.4979 - val_loss: 6.2001e-08 - val_tp: 1.0000 - val_fp: 0.0000e+00 - val_tn: 9598.0000 - val_fn: 10401.0000 - val_precision: 1.0000 - val_recall: 9.6135e-05 - val_accuracy: 0.4800\n",
            "Epoch 24/50\n",
            "2500/2500 [==============================] - ETA: 0s - loss: 6.1426e-08 - tp: 14836.0000 - fp: 13812.0000 - tn: 24966.0000 - fn: 26386.0000 - precision: 0.5179 - recall: 0.3599 - accuracy: 0.4975\n",
            "Epoch 00024: val_accuracy did not improve from 0.47995\n",
            "2500/2500 [==============================] - 82s 33ms/step - loss: 6.1426e-08 - tp: 14836.0000 - fp: 13812.0000 - tn: 24966.0000 - fn: 26386.0000 - precision: 0.5179 - recall: 0.3599 - accuracy: 0.4975 - val_loss: 6.2001e-08 - val_tp: 1.0000 - val_fp: 0.0000e+00 - val_tn: 9598.0000 - val_fn: 10401.0000 - val_precision: 1.0000 - val_recall: 9.6135e-05 - val_accuracy: 0.4800\n",
            "Epoch 25/50\n",
            "2499/2500 [============================>.] - ETA: 0s - loss: 6.1431e-08 - tp: 14849.0000 - fp: 13924.0000 - tn: 24835.0000 - fn: 26360.0000 - precision: 0.5161 - recall: 0.3603 - accuracy: 0.4962\n",
            "Epoch 00025: val_accuracy did not improve from 0.47995\n",
            "2500/2500 [==============================] - 79s 32ms/step - loss: 6.1426e-08 - tp: 14853.0000 - fp: 13929.0000 - tn: 24849.0000 - fn: 26369.0000 - precision: 0.5161 - recall: 0.3603 - accuracy: 0.4963 - val_loss: 6.2001e-08 - val_tp: 1.0000 - val_fp: 0.0000e+00 - val_tn: 9598.0000 - val_fn: 10401.0000 - val_precision: 1.0000 - val_recall: 9.6135e-05 - val_accuracy: 0.4800\n",
            "Epoch 26/50\n",
            "2499/2500 [============================>.] - ETA: 0s - loss: 6.1431e-08 - tp: 14770.0000 - fp: 13679.0000 - tn: 25080.0000 - fn: 26439.0000 - precision: 0.5192 - recall: 0.3584 - accuracy: 0.4983\n",
            "Epoch 00026: val_accuracy did not improve from 0.47995\n",
            "2500/2500 [==============================] - 79s 32ms/step - loss: 6.1426e-08 - tp: 14776.0000 - fp: 13681.0000 - tn: 25097.0000 - fn: 26446.0000 - precision: 0.5192 - recall: 0.3584 - accuracy: 0.4984 - val_loss: 6.2001e-08 - val_tp: 1.0000 - val_fp: 0.0000e+00 - val_tn: 9598.0000 - val_fn: 10401.0000 - val_precision: 1.0000 - val_recall: 9.6135e-05 - val_accuracy: 0.4800\n",
            "Epoch 27/50\n",
            "2499/2500 [============================>.] - ETA: 0s - loss: 6.1431e-08 - tp: 14832.0000 - fp: 13884.0000 - tn: 24875.0000 - fn: 26377.0000 - precision: 0.5165 - recall: 0.3599 - accuracy: 0.4965\n",
            "Epoch 00027: val_accuracy did not improve from 0.47995\n",
            "2500/2500 [==============================] - 80s 32ms/step - loss: 6.1426e-08 - tp: 14836.0000 - fp: 13891.0000 - tn: 24887.0000 - fn: 26386.0000 - precision: 0.5164 - recall: 0.3599 - accuracy: 0.4965 - val_loss: 6.2001e-08 - val_tp: 1.0000 - val_fp: 0.0000e+00 - val_tn: 9598.0000 - val_fn: 10401.0000 - val_precision: 1.0000 - val_recall: 9.6135e-05 - val_accuracy: 0.4800\n",
            "Epoch 28/50\n",
            "2499/2500 [============================>.] - ETA: 0s - loss: 6.1431e-08 - tp: 15068.0000 - fp: 13799.0000 - tn: 24960.0000 - fn: 26141.0000 - precision: 0.5220 - recall: 0.3656 - accuracy: 0.5006\n",
            "Epoch 00028: val_accuracy did not improve from 0.47995\n",
            "2500/2500 [==============================] - 81s 33ms/step - loss: 6.1426e-08 - tp: 15074.0000 - fp: 13807.0000 - tn: 24971.0000 - fn: 26148.0000 - precision: 0.5219 - recall: 0.3657 - accuracy: 0.5006 - val_loss: 6.2001e-08 - val_tp: 1.0000 - val_fp: 0.0000e+00 - val_tn: 9598.0000 - val_fn: 10401.0000 - val_precision: 1.0000 - val_recall: 9.6135e-05 - val_accuracy: 0.4800\n",
            "Epoch 29/50\n",
            "2500/2500 [==============================] - ETA: 0s - loss: 6.1426e-08 - tp: 14901.0000 - fp: 13772.0000 - tn: 25006.0000 - fn: 26321.0000 - precision: 0.5197 - recall: 0.3615 - accuracy: 0.4988\n",
            "Epoch 00029: val_accuracy did not improve from 0.47995\n",
            "2500/2500 [==============================] - 80s 32ms/step - loss: 6.1426e-08 - tp: 14901.0000 - fp: 13772.0000 - tn: 25006.0000 - fn: 26321.0000 - precision: 0.5197 - recall: 0.3615 - accuracy: 0.4988 - val_loss: 6.2001e-08 - val_tp: 1.0000 - val_fp: 0.0000e+00 - val_tn: 9598.0000 - val_fn: 10401.0000 - val_precision: 1.0000 - val_recall: 9.6135e-05 - val_accuracy: 0.4800\n",
            "Epoch 30/50\n",
            "2500/2500 [==============================] - ETA: 0s - loss: 6.1426e-08 - tp: 14854.0000 - fp: 13862.0000 - tn: 24916.0000 - fn: 26368.0000 - precision: 0.5173 - recall: 0.3603 - accuracy: 0.4971\n",
            "Epoch 00030: val_accuracy did not improve from 0.47995\n",
            "2500/2500 [==============================] - 79s 32ms/step - loss: 6.1426e-08 - tp: 14854.0000 - fp: 13862.0000 - tn: 24916.0000 - fn: 26368.0000 - precision: 0.5173 - recall: 0.3603 - accuracy: 0.4971 - val_loss: 6.2001e-08 - val_tp: 1.0000 - val_fp: 0.0000e+00 - val_tn: 9598.0000 - val_fn: 10401.0000 - val_precision: 1.0000 - val_recall: 9.6135e-05 - val_accuracy: 0.4800\n",
            "Epoch 31/50\n",
            "2500/2500 [==============================] - ETA: 0s - loss: 6.1426e-08 - tp: 14762.0000 - fp: 13978.0000 - tn: 24800.0000 - fn: 26460.0000 - precision: 0.5136 - recall: 0.3581 - accuracy: 0.4945\n",
            "Epoch 00031: val_accuracy did not improve from 0.47995\n",
            "2500/2500 [==============================] - 83s 33ms/step - loss: 6.1426e-08 - tp: 14762.0000 - fp: 13978.0000 - tn: 24800.0000 - fn: 26460.0000 - precision: 0.5136 - recall: 0.3581 - accuracy: 0.4945 - val_loss: 6.2001e-08 - val_tp: 1.0000 - val_fp: 0.0000e+00 - val_tn: 9598.0000 - val_fn: 10401.0000 - val_precision: 1.0000 - val_recall: 9.6135e-05 - val_accuracy: 0.4800\n",
            "Epoch 32/50\n",
            "2499/2500 [============================>.] - ETA: 0s - loss: 6.1431e-08 - tp: 14940.0000 - fp: 13872.0000 - tn: 24887.0000 - fn: 26269.0000 - precision: 0.5185 - recall: 0.3625 - accuracy: 0.4980\n",
            "Epoch 00032: val_accuracy did not improve from 0.47995\n",
            "2500/2500 [==============================] - 80s 32ms/step - loss: 6.1426e-08 - tp: 14944.0000 - fp: 13876.0000 - tn: 24902.0000 - fn: 26278.0000 - precision: 0.5185 - recall: 0.3625 - accuracy: 0.4981 - val_loss: 6.2001e-08 - val_tp: 1.0000 - val_fp: 0.0000e+00 - val_tn: 9598.0000 - val_fn: 10401.0000 - val_precision: 1.0000 - val_recall: 9.6135e-05 - val_accuracy: 0.4800\n",
            "Epoch 33/50\n",
            "2499/2500 [============================>.] - ETA: 0s - loss: 6.1431e-08 - tp: 14906.0000 - fp: 13960.0000 - tn: 24799.0000 - fn: 26303.0000 - precision: 0.5164 - recall: 0.3617 - accuracy: 0.4965\n",
            "Epoch 00033: val_accuracy did not improve from 0.47995\n",
            "2500/2500 [==============================] - 79s 31ms/step - loss: 6.1426e-08 - tp: 14914.0000 - fp: 13967.0000 - tn: 24811.0000 - fn: 26308.0000 - precision: 0.5164 - recall: 0.3618 - accuracy: 0.4966 - val_loss: 6.2001e-08 - val_tp: 1.0000 - val_fp: 0.0000e+00 - val_tn: 9598.0000 - val_fn: 10401.0000 - val_precision: 1.0000 - val_recall: 9.6135e-05 - val_accuracy: 0.4800\n",
            "Epoch 34/50\n",
            "2499/2500 [============================>.] - ETA: 0s - loss: 6.1431e-08 - tp: 14790.0000 - fp: 13932.0000 - tn: 24827.0000 - fn: 26419.0000 - precision: 0.5149 - recall: 0.3589 - accuracy: 0.4954\n",
            "Epoch 00034: val_accuracy did not improve from 0.47995\n",
            "2500/2500 [==============================] - 79s 32ms/step - loss: 6.1426e-08 - tp: 14794.0000 - fp: 13937.0000 - tn: 24841.0000 - fn: 26428.0000 - precision: 0.5149 - recall: 0.3589 - accuracy: 0.4954 - val_loss: 6.2001e-08 - val_tp: 1.0000 - val_fp: 0.0000e+00 - val_tn: 9598.0000 - val_fn: 10401.0000 - val_precision: 1.0000 - val_recall: 9.6135e-05 - val_accuracy: 0.4800\n",
            "Epoch 35/50\n",
            "2499/2500 [============================>.] - ETA: 0s - loss: 6.1431e-08 - tp: 14959.0000 - fp: 14019.0000 - tn: 24740.0000 - fn: 26250.0000 - precision: 0.5162 - recall: 0.3630 - accuracy: 0.4964\n",
            "Epoch 00035: val_accuracy did not improve from 0.47995\n",
            "2500/2500 [==============================] - 83s 33ms/step - loss: 6.1426e-08 - tp: 14965.0000 - fp: 14022.0000 - tn: 24756.0000 - fn: 26257.0000 - precision: 0.5163 - recall: 0.3630 - accuracy: 0.4965 - val_loss: 6.2001e-08 - val_tp: 1.0000 - val_fp: 0.0000e+00 - val_tn: 9598.0000 - val_fn: 10401.0000 - val_precision: 1.0000 - val_recall: 9.6135e-05 - val_accuracy: 0.4800\n",
            "Epoch 36/50\n",
            "2499/2500 [============================>.] - ETA: 0s - loss: 6.1431e-08 - tp: 14991.0000 - fp: 13829.0000 - tn: 24930.0000 - fn: 26218.0000 - precision: 0.5202 - recall: 0.3638 - accuracy: 0.4992\n",
            "Epoch 00036: val_accuracy did not improve from 0.47995\n",
            "2500/2500 [==============================] - 81s 32ms/step - loss: 6.1426e-08 - tp: 14995.0000 - fp: 13836.0000 - tn: 24942.0000 - fn: 26227.0000 - precision: 0.5201 - recall: 0.3638 - accuracy: 0.4992 - val_loss: 6.2001e-08 - val_tp: 1.0000 - val_fp: 0.0000e+00 - val_tn: 9598.0000 - val_fn: 10401.0000 - val_precision: 1.0000 - val_recall: 9.6135e-05 - val_accuracy: 0.4800\n",
            "Epoch 37/50\n",
            "2499/2500 [============================>.] - ETA: 0s - loss: 6.1431e-08 - tp: 14782.0000 - fp: 13790.0000 - tn: 24969.0000 - fn: 26427.0000 - precision: 0.5174 - recall: 0.3587 - accuracy: 0.4971\n",
            "Epoch 00037: val_accuracy did not improve from 0.47995\n",
            "2500/2500 [==============================] - 83s 33ms/step - loss: 6.1426e-08 - tp: 14787.0000 - fp: 13793.0000 - tn: 24985.0000 - fn: 26435.0000 - precision: 0.5174 - recall: 0.3587 - accuracy: 0.4972 - val_loss: 6.2001e-08 - val_tp: 1.0000 - val_fp: 0.0000e+00 - val_tn: 9598.0000 - val_fn: 10401.0000 - val_precision: 1.0000 - val_recall: 9.6135e-05 - val_accuracy: 0.4800\n",
            "Epoch 38/50\n",
            "2499/2500 [============================>.] - ETA: 0s - loss: 6.1431e-08 - tp: 14907.0000 - fp: 13966.0000 - tn: 24793.0000 - fn: 26302.0000 - precision: 0.5163 - recall: 0.3617 - accuracy: 0.4964\n",
            "Epoch 00038: val_accuracy did not improve from 0.47995\n",
            "2500/2500 [==============================] - 81s 33ms/step - loss: 6.1426e-08 - tp: 14912.0000 - fp: 13977.0000 - tn: 24801.0000 - fn: 26310.0000 - precision: 0.5162 - recall: 0.3617 - accuracy: 0.4964 - val_loss: 6.2001e-08 - val_tp: 1.0000 - val_fp: 0.0000e+00 - val_tn: 9598.0000 - val_fn: 10401.0000 - val_precision: 1.0000 - val_recall: 9.6135e-05 - val_accuracy: 0.4800\n",
            "Epoch 39/50\n",
            "2500/2500 [==============================] - ETA: 0s - loss: 6.1426e-08 - tp: 14859.0000 - fp: 13857.0000 - tn: 24921.0000 - fn: 26363.0000 - precision: 0.5174 - recall: 0.3605 - accuracy: 0.4972\n",
            "Epoch 00039: val_accuracy did not improve from 0.47995\n",
            "2500/2500 [==============================] - 81s 33ms/step - loss: 6.1426e-08 - tp: 14859.0000 - fp: 13857.0000 - tn: 24921.0000 - fn: 26363.0000 - precision: 0.5174 - recall: 0.3605 - accuracy: 0.4972 - val_loss: 6.2001e-08 - val_tp: 1.0000 - val_fp: 0.0000e+00 - val_tn: 9598.0000 - val_fn: 10401.0000 - val_precision: 1.0000 - val_recall: 9.6135e-05 - val_accuracy: 0.4800\n",
            "Epoch 40/50\n",
            "2499/2500 [============================>.] - ETA: 0s - loss: 6.1431e-08 - tp: 14825.0000 - fp: 13777.0000 - tn: 24982.0000 - fn: 26384.0000 - precision: 0.5183 - recall: 0.3598 - accuracy: 0.4978\n",
            "Epoch 00040: val_accuracy did not improve from 0.47995\n",
            "2500/2500 [==============================] - 81s 32ms/step - loss: 6.1426e-08 - tp: 14829.0000 - fp: 13786.0000 - tn: 24992.0000 - fn: 26393.0000 - precision: 0.5182 - recall: 0.3597 - accuracy: 0.4978 - val_loss: 6.2001e-08 - val_tp: 1.0000 - val_fp: 0.0000e+00 - val_tn: 9598.0000 - val_fn: 10401.0000 - val_precision: 1.0000 - val_recall: 9.6135e-05 - val_accuracy: 0.4800\n",
            "Epoch 41/50\n",
            "2500/2500 [==============================] - ETA: 0s - loss: 6.1426e-08 - tp: 14974.0000 - fp: 13925.0000 - tn: 24853.0000 - fn: 26248.0000 - precision: 0.5181 - recall: 0.3633 - accuracy: 0.4978\n",
            "Epoch 00041: val_accuracy did not improve from 0.47995\n",
            "2500/2500 [==============================] - 80s 32ms/step - loss: 6.1426e-08 - tp: 14974.0000 - fp: 13925.0000 - tn: 24853.0000 - fn: 26248.0000 - precision: 0.5181 - recall: 0.3633 - accuracy: 0.4978 - val_loss: 6.2001e-08 - val_tp: 1.0000 - val_fp: 0.0000e+00 - val_tn: 9598.0000 - val_fn: 10401.0000 - val_precision: 1.0000 - val_recall: 9.6135e-05 - val_accuracy: 0.4800\n",
            "Epoch 42/50\n",
            "2500/2500 [==============================] - ETA: 0s - loss: 6.1426e-08 - tp: 14893.0000 - fp: 13851.0000 - tn: 24927.0000 - fn: 26329.0000 - precision: 0.5181 - recall: 0.3613 - accuracy: 0.4978\n",
            "Epoch 00042: val_accuracy did not improve from 0.47995\n",
            "2500/2500 [==============================] - 80s 32ms/step - loss: 6.1426e-08 - tp: 14893.0000 - fp: 13851.0000 - tn: 24927.0000 - fn: 26329.0000 - precision: 0.5181 - recall: 0.3613 - accuracy: 0.4978 - val_loss: 6.2001e-08 - val_tp: 1.0000 - val_fp: 0.0000e+00 - val_tn: 9598.0000 - val_fn: 10401.0000 - val_precision: 1.0000 - val_recall: 9.6135e-05 - val_accuracy: 0.4800\n",
            "Epoch 43/50\n",
            "2499/2500 [============================>.] - ETA: 0s - loss: 6.1431e-08 - tp: 14917.0000 - fp: 13895.0000 - tn: 24864.0000 - fn: 26292.0000 - precision: 0.5177 - recall: 0.3620 - accuracy: 0.4975\n",
            "Epoch 00043: val_accuracy did not improve from 0.47995\n",
            "2500/2500 [==============================] - 84s 33ms/step - loss: 6.1426e-08 - tp: 14919.0000 - fp: 13904.0000 - tn: 24874.0000 - fn: 26303.0000 - precision: 0.5176 - recall: 0.3619 - accuracy: 0.4974 - val_loss: 6.2001e-08 - val_tp: 1.0000 - val_fp: 0.0000e+00 - val_tn: 9598.0000 - val_fn: 10401.0000 - val_precision: 1.0000 - val_recall: 9.6135e-05 - val_accuracy: 0.4800\n",
            "Epoch 44/50\n",
            "2499/2500 [============================>.] - ETA: 0s - loss: 6.1431e-08 - tp: 14908.0000 - fp: 13699.0000 - tn: 25060.0000 - fn: 26301.0000 - precision: 0.5211 - recall: 0.3618 - accuracy: 0.4998\n",
            "Epoch 00044: val_accuracy did not improve from 0.47995\n",
            "2500/2500 [==============================] - 82s 33ms/step - loss: 6.1426e-08 - tp: 14912.0000 - fp: 13707.0000 - tn: 25071.0000 - fn: 26310.0000 - precision: 0.5211 - recall: 0.3617 - accuracy: 0.4998 - val_loss: 6.2001e-08 - val_tp: 1.0000 - val_fp: 0.0000e+00 - val_tn: 9598.0000 - val_fn: 10401.0000 - val_precision: 1.0000 - val_recall: 9.6135e-05 - val_accuracy: 0.4800\n",
            "Epoch 45/50\n",
            "2500/2500 [==============================] - ETA: 0s - loss: 6.1426e-08 - tp: 15108.0000 - fp: 13924.0000 - tn: 24854.0000 - fn: 26114.0000 - precision: 0.5204 - recall: 0.3665 - accuracy: 0.4995\n",
            "Epoch 00045: val_accuracy did not improve from 0.47995\n",
            "2500/2500 [==============================] - 85s 34ms/step - loss: 6.1426e-08 - tp: 15108.0000 - fp: 13924.0000 - tn: 24854.0000 - fn: 26114.0000 - precision: 0.5204 - recall: 0.3665 - accuracy: 0.4995 - val_loss: 6.2001e-08 - val_tp: 1.0000 - val_fp: 0.0000e+00 - val_tn: 9598.0000 - val_fn: 10401.0000 - val_precision: 1.0000 - val_recall: 9.6135e-05 - val_accuracy: 0.4800\n",
            "Epoch 46/50\n",
            "2499/2500 [============================>.] - ETA: 0s - loss: 6.1431e-08 - tp: 15047.0000 - fp: 13791.0000 - tn: 24968.0000 - fn: 26162.0000 - precision: 0.5218 - recall: 0.3651 - accuracy: 0.5004\n",
            "Epoch 00046: val_accuracy did not improve from 0.47995\n",
            "2500/2500 [==============================] - 84s 34ms/step - loss: 6.1426e-08 - tp: 15054.0000 - fp: 13796.0000 - tn: 24982.0000 - fn: 26168.0000 - precision: 0.5218 - recall: 0.3652 - accuracy: 0.5005 - val_loss: 6.2001e-08 - val_tp: 1.0000 - val_fp: 0.0000e+00 - val_tn: 9598.0000 - val_fn: 10401.0000 - val_precision: 1.0000 - val_recall: 9.6135e-05 - val_accuracy: 0.4800\n",
            "Epoch 47/50\n",
            "2500/2500 [==============================] - ETA: 0s - loss: 6.1426e-08 - tp: 14801.0000 - fp: 13815.0000 - tn: 24963.0000 - fn: 26421.0000 - precision: 0.5172 - recall: 0.3591 - accuracy: 0.4970\n",
            "Epoch 00047: val_accuracy did not improve from 0.47995\n",
            "2500/2500 [==============================] - 85s 34ms/step - loss: 6.1426e-08 - tp: 14801.0000 - fp: 13815.0000 - tn: 24963.0000 - fn: 26421.0000 - precision: 0.5172 - recall: 0.3591 - accuracy: 0.4970 - val_loss: 6.2001e-08 - val_tp: 1.0000 - val_fp: 0.0000e+00 - val_tn: 9598.0000 - val_fn: 10401.0000 - val_precision: 1.0000 - val_recall: 9.6135e-05 - val_accuracy: 0.4800\n",
            "Epoch 48/50\n",
            "2499/2500 [============================>.] - ETA: 0s - loss: 6.1431e-08 - tp: 14803.0000 - fp: 13808.0000 - tn: 24951.0000 - fn: 26406.0000 - precision: 0.5174 - recall: 0.3592 - accuracy: 0.4971\n",
            "Epoch 00048: val_accuracy did not improve from 0.47995\n",
            "2500/2500 [==============================] - 81s 32ms/step - loss: 6.1426e-08 - tp: 14809.0000 - fp: 13814.0000 - tn: 24964.0000 - fn: 26413.0000 - precision: 0.5174 - recall: 0.3592 - accuracy: 0.4972 - val_loss: 6.2001e-08 - val_tp: 1.0000 - val_fp: 0.0000e+00 - val_tn: 9598.0000 - val_fn: 10401.0000 - val_precision: 1.0000 - val_recall: 9.6135e-05 - val_accuracy: 0.4800\n",
            "Epoch 49/50\n",
            "2500/2500 [==============================] - ETA: 0s - loss: 6.1426e-08 - tp: 15054.0000 - fp: 13898.0000 - tn: 24880.0000 - fn: 26168.0000 - precision: 0.5200 - recall: 0.3652 - accuracy: 0.4992\n",
            "Epoch 00049: val_accuracy did not improve from 0.47995\n",
            "2500/2500 [==============================] - 87s 35ms/step - loss: 6.1426e-08 - tp: 15054.0000 - fp: 13898.0000 - tn: 24880.0000 - fn: 26168.0000 - precision: 0.5200 - recall: 0.3652 - accuracy: 0.4992 - val_loss: 6.2001e-08 - val_tp: 1.0000 - val_fp: 0.0000e+00 - val_tn: 9598.0000 - val_fn: 10401.0000 - val_precision: 1.0000 - val_recall: 9.6135e-05 - val_accuracy: 0.4800\n",
            "Epoch 50/50\n",
            "2499/2500 [============================>.] - ETA: 0s - loss: 6.1431e-08 - tp: 14894.0000 - fp: 13728.0000 - tn: 25031.0000 - fn: 26315.0000 - precision: 0.5204 - recall: 0.3614 - accuracy: 0.4993\n",
            "Epoch 00050: val_accuracy did not improve from 0.47995\n",
            "2500/2500 [==============================] - 83s 33ms/step - loss: 6.1426e-08 - tp: 14900.0000 - fp: 13739.0000 - tn: 25039.0000 - fn: 26322.0000 - precision: 0.5203 - recall: 0.3615 - accuracy: 0.4992 - val_loss: 6.2001e-08 - val_tp: 1.0000 - val_fp: 0.0000e+00 - val_tn: 9598.0000 - val_fn: 10401.0000 - val_precision: 1.0000 - val_recall: 9.6135e-05 - val_accuracy: 0.4800\n"
          ],
          "name": "stdout"
        }
      ]
    },
    {
      "cell_type": "code",
      "metadata": {
        "id": "LeXAFGW6_QMk"
      },
      "source": [
        "# Testing accuracy on test data\n",
        "y_pred = model.predict(X221_test)\n",
        "thresh = 0.5\n",
        "for i in range(len(y_pred)):\n",
        "  up = y_pred[i] >= 0.5\n",
        "  down = y_pred[i] < 0.5\n",
        "  y_pred[i][up] = 1\n",
        "  y_pred[i][down] = 0"
      ],
      "execution_count": null,
      "outputs": []
    },
    {
      "cell_type": "code",
      "metadata": {
        "colab": {
          "base_uri": "https://localhost:8080/"
        },
        "id": "9v5NzMAh3hYk",
        "outputId": "2151a7a8-95ed-4c7e-e651-a286dc6e07df"
      },
      "source": [
        "from sklearn.metrics import accuracy_score\n",
        "\n",
        "accuracy = accuracy_score(y221_test, y_pred)\n",
        "print(accuracy)"
      ],
      "execution_count": null,
      "outputs": [
        {
          "output_type": "stream",
          "text": [
            "0.5689\n"
          ],
          "name": "stdout"
        }
      ]
    },
    {
      "cell_type": "code",
      "metadata": {
        "colab": {
          "base_uri": "https://localhost:8080/",
          "height": 601
        },
        "id": "t1BSiB1LXz3Q",
        "outputId": "610f9cc5-99ee-4a06-af3d-69c031b5a3c7"
      },
      "source": [
        "def plot_metrics(history):\n",
        "  metrics = ['loss', 'precision', 'recall']\n",
        "  for n, metric in enumerate(metrics):\n",
        "    name = metric.replace(\"_\",\" \").capitalize()\n",
        "    plt.subplot(2,2,n+1)\n",
        "    plt.plot(history.epoch, history.history[metric], color='blue', label='Train')\n",
        "    plt.plot(history.epoch, history.history['val_'+metric],\n",
        "             color='red', linestyle=\"--\", label='Val')\n",
        "    plt.xlabel('Epoch')\n",
        "    plt.ylabel(name)\n",
        "    if metric == 'loss':\n",
        "      plt.ylim([0, plt.ylim()[1]])\n",
        "    else:\n",
        "      plt.ylim([0,1])\n",
        "\n",
        "    plt.legend()\n",
        "\n",
        "plot_metrics(history)\n",
        "confusionmatrix = confusion_matrix(y221_test, y_pred.reshape(10000), normalize='all')\n",
        "plt.matshow(confusionmatrix)\n",
        "print(confusionmatrix)\n",
        "\n",
        "import seaborn as sns\n",
        "\n",
        "ax = sns.heatmap(confusionmatrix, annot=True)\n",
        "ax.set(xlabel=\"Predicted value\", ylabel=\"Actual value\")"
      ],
      "execution_count": null,
      "outputs": [
        {
          "output_type": "stream",
          "text": [
            "[[5.686e-01 1.000e-04]\n",
            " [4.310e-01 3.000e-04]]\n"
          ],
          "name": "stdout"
        },
        {
          "output_type": "execute_result",
          "data": {
            "text/plain": [
              "[Text(19.699999999999996, 0.5, 'Actual value'),\n",
              " Text(0.5, 44.24, 'Predicted value')]"
            ]
          },
          "metadata": {
            "tags": []
          },
          "execution_count": 188
        },
        {
          "output_type": "display_data",
          "data": {
            "image/png": "[encoded data removed]",
            "text/plain": [
              "<Figure size 432x288 with 3 Axes>"
            ]
          },
          "metadata": {
            "tags": []
          }
        },
        {
          "output_type": "display_data",
          "data": {
            "image/png": "[encoded data removed]",
            "text/plain": [
              "<Figure size 288x288 with 2 Axes>"
            ]
          },
          "metadata": {
            "tags": []
          }
        }
      ]
    },
    {
      "cell_type": "code",
      "metadata": {
        "colab": {
          "base_uri": "https://localhost:8080/",
          "height": 296
        },
        "id": "tLY0UnPgI6ye",
        "outputId": "516bd925-6ac1-44e4-ac26-877ded47b3f3"
      },
      "source": [
        "sns.set_theme(style='whitegrid')\n",
        "data = [history.history['loss'], history]\n",
        "sns.lineplot(data=history.history[\"loss\"], linewidth=3)"
      ],
      "execution_count": null,
      "outputs": [
        {
          "output_type": "execute_result",
          "data": {
            "text/plain": [
              "<matplotlib.axes._subplots.AxesSubplot at 0x7f9fdad57780>"
            ]
          },
          "metadata": {
            "tags": []
          },
          "execution_count": 187
        },
        {
          "output_type": "display_data",
          "data": {
            "image/png": "[encoded data removed]",
            "text/plain": [
              "<Figure size 432x288 with 1 Axes>"
            ]
          },
          "metadata": {
            "tags": []
          }
        }
      ]
    },
    {
      "cell_type": "code",
      "metadata": {
        "id": "ZrfJg9OF05U1"
      },
      "source": [
        "# Logistic regression testing with specific site mutation prediction\n",
        "\n",
        "lr_X_train = X221_train[:, 9, :]  # Input only last month sequence embeddings to predict next month\n",
        "\n",
        "model_lr = keras.Sequential()\n",
        "model_lr.add(Dense(1, input_shape=(100,), activation='sigmoid'))\n",
        "model_lr.compile(optimizer='sgd', loss='binary_crossentropy', metrics=['binary_accuracy'])"
      ],
      "execution_count": null,
      "outputs": []
    },
    {
      "cell_type": "code",
      "metadata": {
        "colab": {
          "base_uri": "https://localhost:8080/"
        },
        "id": "qBK7Hb0c3yvG",
        "outputId": "6b87b3dd-fea5-4b9f-cfa7-2b38e3efbc4c"
      },
      "source": [
        "history1=model_lr.fit(\n",
        "    x=lr_X_train,\n",
        "    y=y221_train,\n",
        "    shuffle=False,\n",
        "    epochs=15,\n",
        "    batch_size=1,\n",
        "    callbacks=callbacks_list\n",
        ")"
      ],
      "execution_count": null,
      "outputs": [
        {
          "output_type": "stream",
          "text": [
            "Epoch 1/15\n",
            "49966/50000 [============================>.] - ETA: 0s - loss: 0.6932 - binary_accuracy: 0.5218WARNING:tensorflow:Can save best model only with val_accuracy available, skipping.\n",
            "WARNING:tensorflow:Reduce LR on plateau conditioned on metric `val_accuracy` which is not available. Available metrics are: loss,binary_accuracy,lr\n",
            "50000/50000 [==============================] - 44s 884us/step - loss: 0.6932 - binary_accuracy: 0.5218\n",
            "Epoch 2/15\n",
            "49979/50000 [============================>.] - ETA: 0s - loss: 0.6932 - binary_accuracy: 0.5219WARNING:tensorflow:Can save best model only with val_accuracy available, skipping.\n",
            "WARNING:tensorflow:Reduce LR on plateau conditioned on metric `val_accuracy` which is not available. Available metrics are: loss,binary_accuracy,lr\n",
            "50000/50000 [==============================] - 41s 817us/step - loss: 0.6932 - binary_accuracy: 0.5218\n",
            "Epoch 3/15\n",
            "49962/50000 [============================>.] - ETA: 0s - loss: 0.6932 - binary_accuracy: 0.5218WARNING:tensorflow:Can save best model only with val_accuracy available, skipping.\n",
            "WARNING:tensorflow:Reduce LR on plateau conditioned on metric `val_accuracy` which is not available. Available metrics are: loss,binary_accuracy,lr\n",
            "50000/50000 [==============================] - 40s 806us/step - loss: 0.6932 - binary_accuracy: 0.5218\n",
            "Epoch 4/15\n",
            "49944/50000 [============================>.] - ETA: 0s - loss: 0.6932 - binary_accuracy: 0.5218WARNING:tensorflow:Can save best model only with val_accuracy available, skipping.\n",
            "WARNING:tensorflow:Reduce LR on plateau conditioned on metric `val_accuracy` which is not available. Available metrics are: loss,binary_accuracy,lr\n",
            "50000/50000 [==============================] - 42s 831us/step - loss: 0.6932 - binary_accuracy: 0.5218\n",
            "Epoch 5/15\n",
            "49963/50000 [============================>.] - ETA: 0s - loss: 0.6932 - binary_accuracy: 0.5218WARNING:tensorflow:Can save best model only with val_accuracy available, skipping.\n",
            "WARNING:tensorflow:Reduce LR on plateau conditioned on metric `val_accuracy` which is not available. Available metrics are: loss,binary_accuracy,lr\n",
            "50000/50000 [==============================] - 39s 775us/step - loss: 0.6932 - binary_accuracy: 0.5218\n",
            "Epoch 6/15\n",
            "49998/50000 [============================>.] - ETA: 0s - loss: 0.6932 - binary_accuracy: 0.5218WARNING:tensorflow:Can save best model only with val_accuracy available, skipping.\n",
            "WARNING:tensorflow:Reduce LR on plateau conditioned on metric `val_accuracy` which is not available. Available metrics are: loss,binary_accuracy,lr\n",
            "50000/50000 [==============================] - 37s 742us/step - loss: 0.6932 - binary_accuracy: 0.5218\n",
            "Epoch 7/15\n",
            "49981/50000 [============================>.] - ETA: 0s - loss: 0.6932 - binary_accuracy: 0.5218WARNING:tensorflow:Can save best model only with val_accuracy available, skipping.\n",
            "WARNING:tensorflow:Reduce LR on plateau conditioned on metric `val_accuracy` which is not available. Available metrics are: loss,binary_accuracy,lr\n",
            "50000/50000 [==============================] - 41s 824us/step - loss: 0.6932 - binary_accuracy: 0.5218\n",
            "Epoch 8/15\n",
            "49998/50000 [============================>.] - ETA: 0s - loss: 0.6932 - binary_accuracy: 0.5218WARNING:tensorflow:Can save best model only with val_accuracy available, skipping.\n",
            "WARNING:tensorflow:Reduce LR on plateau conditioned on metric `val_accuracy` which is not available. Available metrics are: loss,binary_accuracy,lr\n",
            "50000/50000 [==============================] - 39s 780us/step - loss: 0.6932 - binary_accuracy: 0.5218\n",
            "Epoch 9/15\n",
            "49935/50000 [============================>.] - ETA: 0s - loss: 0.6932 - binary_accuracy: 0.5219WARNING:tensorflow:Can save best model only with val_accuracy available, skipping.\n",
            "WARNING:tensorflow:Reduce LR on plateau conditioned on metric `val_accuracy` which is not available. Available metrics are: loss,binary_accuracy,lr\n",
            "50000/50000 [==============================] - 40s 790us/step - loss: 0.6932 - binary_accuracy: 0.5218\n",
            "Epoch 10/15\n",
            "49949/50000 [============================>.] - ETA: 0s - loss: 0.6932 - binary_accuracy: 0.5218WARNING:tensorflow:Can save best model only with val_accuracy available, skipping.\n",
            "WARNING:tensorflow:Reduce LR on plateau conditioned on metric `val_accuracy` which is not available. Available metrics are: loss,binary_accuracy,lr\n",
            "50000/50000 [==============================] - 38s 750us/step - loss: 0.6932 - binary_accuracy: 0.5218\n",
            "Epoch 11/15\n",
            "49934/50000 [============================>.] - ETA: 0s - loss: 0.6932 - binary_accuracy: 0.5219WARNING:tensorflow:Can save best model only with val_accuracy available, skipping.\n",
            "WARNING:tensorflow:Reduce LR on plateau conditioned on metric `val_accuracy` which is not available. Available metrics are: loss,binary_accuracy,lr\n",
            "50000/50000 [==============================] - 36s 729us/step - loss: 0.6932 - binary_accuracy: 0.5218\n",
            "Epoch 12/15\n",
            "49951/50000 [============================>.] - ETA: 0s - loss: 0.6932 - binary_accuracy: 0.5218WARNING:tensorflow:Can save best model only with val_accuracy available, skipping.\n",
            "WARNING:tensorflow:Reduce LR on plateau conditioned on metric `val_accuracy` which is not available. Available metrics are: loss,binary_accuracy,lr\n",
            "50000/50000 [==============================] - 37s 743us/step - loss: 0.6932 - binary_accuracy: 0.5218\n",
            "Epoch 13/15\n",
            "49985/50000 [============================>.] - ETA: 0s - loss: 0.6932 - binary_accuracy: 0.5218WARNING:tensorflow:Can save best model only with val_accuracy available, skipping.\n",
            "WARNING:tensorflow:Reduce LR on plateau conditioned on metric `val_accuracy` which is not available. Available metrics are: loss,binary_accuracy,lr\n",
            "50000/50000 [==============================] - 39s 773us/step - loss: 0.6932 - binary_accuracy: 0.5218\n",
            "Epoch 14/15\n",
            "49947/50000 [============================>.] - ETA: 0s - loss: 0.6932 - binary_accuracy: 0.5218WARNING:tensorflow:Can save best model only with val_accuracy available, skipping.\n",
            "WARNING:tensorflow:Reduce LR on plateau conditioned on metric `val_accuracy` which is not available. Available metrics are: loss,binary_accuracy,lr\n",
            "50000/50000 [==============================] - 37s 747us/step - loss: 0.6932 - binary_accuracy: 0.5217\n",
            "Epoch 15/15\n",
            "49964/50000 [============================>.] - ETA: 0s - loss: 0.6932 - binary_accuracy: 0.5218WARNING:tensorflow:Can save best model only with val_accuracy available, skipping.\n",
            "WARNING:tensorflow:Reduce LR on plateau conditioned on metric `val_accuracy` which is not available. Available metrics are: loss,binary_accuracy,lr\n",
            "50000/50000 [==============================] - 42s 849us/step - loss: 0.6932 - binary_accuracy: 0.5218\n"
          ],
          "name": "stdout"
        }
      ]
    },
    {
      "cell_type": "code",
      "metadata": {
        "colab": {
          "base_uri": "https://localhost:8080/"
        },
        "id": "NPjQgKOWPemI",
        "outputId": "40b9169f-26e6-4f16-af5e-4780d75f1d99"
      },
      "source": [
        "# Naive neural network testing with specific site mutation prediction\n",
        "\n",
        "model_nn = keras.Sequential()\n",
        "model_nn.add(Dense(64, input_shape=(100,), activation='relu'))\n",
        "model_nn.add(Dense(64, activation='relu'))\n",
        "model_nn.add(Dense(1, activation='sigmoid'))\n",
        "model_nn.compile(optimizer='adam', loss='binary_crossentropy', metrics=['binary_accuracy'])\n",
        "\n",
        "filepath=\"weights-improvement-trial-randomstate_7.hdf5\"\n",
        "checkpoint = ModelCheckpoint(filepath, monitor='val_accuracy', verbose=1, \n",
        "                             save_best_only=True, mode='max')\n",
        "callbacks_list = [checkpoint]\n",
        "callbacks_list += [lr_reduction]\n",
        "\n",
        "history2=model_nn.fit(\n",
        "    x=lr_X_train,  # Takes as input the same data inputted into lr_X_train\n",
        "    y=y221_train,\n",
        "    shuffle=True,\n",
        "    epochs=15,\n",
        "    batch_size=32,\n",
        "    callbacks=callbacks_list\n",
        ")"
      ],
      "execution_count": null,
      "outputs": [
        {
          "output_type": "stream",
          "text": [
            "Epoch 1/15\n",
            "1546/1563 [============================>.] - ETA: 0s - loss: 0.6915 - binary_accuracy: 0.5306WARNING:tensorflow:Can save best model only with val_accuracy available, skipping.\n",
            "WARNING:tensorflow:Reduce LR on plateau conditioned on metric `val_accuracy` which is not available. Available metrics are: loss,binary_accuracy,lr\n",
            "1563/1563 [==============================] - 3s 2ms/step - loss: 0.6915 - binary_accuracy: 0.5306\n",
            "Epoch 2/15\n",
            "1557/1563 [============================>.] - ETA: 0s - loss: 0.6915 - binary_accuracy: 0.5308WARNING:tensorflow:Can save best model only with val_accuracy available, skipping.\n",
            "WARNING:tensorflow:Reduce LR on plateau conditioned on metric `val_accuracy` which is not available. Available metrics are: loss,binary_accuracy,lr\n",
            "1563/1563 [==============================] - 3s 2ms/step - loss: 0.6914 - binary_accuracy: 0.5311\n",
            "Epoch 3/15\n",
            "1563/1563 [==============================] - ETA: 0s - loss: 0.6913 - binary_accuracy: 0.5315WARNING:tensorflow:Can save best model only with val_accuracy available, skipping.\n",
            "WARNING:tensorflow:Reduce LR on plateau conditioned on metric `val_accuracy` which is not available. Available metrics are: loss,binary_accuracy,lr\n",
            "1563/1563 [==============================] - 3s 2ms/step - loss: 0.6913 - binary_accuracy: 0.5315\n",
            "Epoch 4/15\n",
            "1535/1563 [============================>.] - ETA: 0s - loss: 0.6914 - binary_accuracy: 0.5315WARNING:tensorflow:Can save best model only with val_accuracy available, skipping.\n",
            "WARNING:tensorflow:Reduce LR on plateau conditioned on metric `val_accuracy` which is not available. Available metrics are: loss,binary_accuracy,lr\n",
            "1563/1563 [==============================] - 3s 2ms/step - loss: 0.6913 - binary_accuracy: 0.5317\n",
            "Epoch 5/15\n",
            "1540/1563 [============================>.] - ETA: 0s - loss: 0.6911 - binary_accuracy: 0.5325WARNING:tensorflow:Can save best model only with val_accuracy available, skipping.\n",
            "WARNING:tensorflow:Reduce LR on plateau conditioned on metric `val_accuracy` which is not available. Available metrics are: loss,binary_accuracy,lr\n",
            "1563/1563 [==============================] - 3s 2ms/step - loss: 0.6912 - binary_accuracy: 0.5317\n",
            "Epoch 6/15\n",
            "1562/1563 [============================>.] - ETA: 0s - loss: 0.6914 - binary_accuracy: 0.5316WARNING:tensorflow:Can save best model only with val_accuracy available, skipping.\n",
            "WARNING:tensorflow:Reduce LR on plateau conditioned on metric `val_accuracy` which is not available. Available metrics are: loss,binary_accuracy,lr\n",
            "1563/1563 [==============================] - 3s 2ms/step - loss: 0.6914 - binary_accuracy: 0.5316\n",
            "Epoch 7/15\n",
            "1543/1563 [============================>.] - ETA: 0s - loss: 0.6912 - binary_accuracy: 0.5320WARNING:tensorflow:Can save best model only with val_accuracy available, skipping.\n",
            "WARNING:tensorflow:Reduce LR on plateau conditioned on metric `val_accuracy` which is not available. Available metrics are: loss,binary_accuracy,lr\n",
            "1563/1563 [==============================] - 3s 2ms/step - loss: 0.6913 - binary_accuracy: 0.5317\n",
            "Epoch 8/15\n",
            "1557/1563 [============================>.] - ETA: 0s - loss: 0.6913 - binary_accuracy: 0.5315WARNING:tensorflow:Can save best model only with val_accuracy available, skipping.\n",
            "WARNING:tensorflow:Reduce LR on plateau conditioned on metric `val_accuracy` which is not available. Available metrics are: loss,binary_accuracy,lr\n",
            "1563/1563 [==============================] - 3s 2ms/step - loss: 0.6913 - binary_accuracy: 0.5317\n",
            "Epoch 9/15\n",
            "1544/1563 [============================>.] - ETA: 0s - loss: 0.6913 - binary_accuracy: 0.5313WARNING:tensorflow:Can save best model only with val_accuracy available, skipping.\n",
            "WARNING:tensorflow:Reduce LR on plateau conditioned on metric `val_accuracy` which is not available. Available metrics are: loss,binary_accuracy,lr\n",
            "1563/1563 [==============================] - 4s 3ms/step - loss: 0.6912 - binary_accuracy: 0.5316\n",
            "Epoch 10/15\n",
            "1558/1563 [============================>.] - ETA: 0s - loss: 0.6913 - binary_accuracy: 0.5315WARNING:tensorflow:Can save best model only with val_accuracy available, skipping.\n",
            "WARNING:tensorflow:Reduce LR on plateau conditioned on metric `val_accuracy` which is not available. Available metrics are: loss,binary_accuracy,lr\n",
            "1563/1563 [==============================] - 5s 3ms/step - loss: 0.6912 - binary_accuracy: 0.5317\n",
            "Epoch 11/15\n",
            "1544/1563 [============================>.] - ETA: 0s - loss: 0.6913 - binary_accuracy: 0.5315WARNING:tensorflow:Can save best model only with val_accuracy available, skipping.\n",
            "WARNING:tensorflow:Reduce LR on plateau conditioned on metric `val_accuracy` which is not available. Available metrics are: loss,binary_accuracy,lr\n",
            "1563/1563 [==============================] - 4s 3ms/step - loss: 0.6913 - binary_accuracy: 0.5316\n",
            "Epoch 12/15\n",
            "1551/1563 [============================>.] - ETA: 0s - loss: 0.6912 - binary_accuracy: 0.5316WARNING:tensorflow:Can save best model only with val_accuracy available, skipping.\n",
            "WARNING:tensorflow:Reduce LR on plateau conditioned on metric `val_accuracy` which is not available. Available metrics are: loss,binary_accuracy,lr\n",
            "1563/1563 [==============================] - 4s 3ms/step - loss: 0.6912 - binary_accuracy: 0.5317\n",
            "Epoch 13/15\n",
            "1557/1563 [============================>.] - ETA: 0s - loss: 0.6912 - binary_accuracy: 0.5315WARNING:tensorflow:Can save best model only with val_accuracy available, skipping.\n",
            "WARNING:tensorflow:Reduce LR on plateau conditioned on metric `val_accuracy` which is not available. Available metrics are: loss,binary_accuracy,lr\n",
            "1563/1563 [==============================] - 4s 3ms/step - loss: 0.6912 - binary_accuracy: 0.5316\n",
            "Epoch 14/15\n",
            "1547/1563 [============================>.] - ETA: 0s - loss: 0.6912 - binary_accuracy: 0.5318WARNING:tensorflow:Can save best model only with val_accuracy available, skipping.\n",
            "WARNING:tensorflow:Reduce LR on plateau conditioned on metric `val_accuracy` which is not available. Available metrics are: loss,binary_accuracy,lr\n",
            "1563/1563 [==============================] - 4s 2ms/step - loss: 0.6913 - binary_accuracy: 0.5316\n",
            "Epoch 15/15\n",
            "1546/1563 [============================>.] - ETA: 0s - loss: 0.6913 - binary_accuracy: 0.5313WARNING:tensorflow:Can save best model only with val_accuracy available, skipping.\n",
            "WARNING:tensorflow:Reduce LR on plateau conditioned on metric `val_accuracy` which is not available. Available metrics are: loss,binary_accuracy,lr\n",
            "1563/1563 [==============================] - 3s 2ms/step - loss: 0.6912 - binary_accuracy: 0.5317\n"
          ],
          "name": "stdout"
        }
      ]
    }
  ]
}